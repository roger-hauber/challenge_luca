{
 "cells": [
  {
   "cell_type": "code",
   "execution_count": 17,
   "id": "f9535e6d",
   "metadata": {},
   "outputs": [],
   "source": [
    "import requests\n",
    "import pandas as pd\n",
    "from bs4 import BeautifulSoup"
   ]
  },
  {
   "cell_type": "code",
   "execution_count": 28,
   "id": "430c94f6",
   "metadata": {},
   "outputs": [],
   "source": [
    "with open(\"key.txt\", \"r\") as file:\n",
    "    key = file.read()"
   ]
  },
  {
   "cell_type": "code",
   "execution_count": 29,
   "id": "a2aeee53",
   "metadata": {},
   "outputs": [],
   "source": [
    "key = key.strip(\"\\n\")"
   ]
  },
  {
   "cell_type": "code",
   "execution_count": 182,
   "id": "18649abc",
   "metadata": {},
   "outputs": [],
   "source": [
    "# empty dict of businesses with key \"name\", \"rating\", \"zip code\"\n",
    "restaurants = {\"name\": [], \"rating\":[], \"zip_code\": []}\n"
   ]
  },
  {
   "cell_type": "code",
   "execution_count": 183,
   "id": "8cd59c77",
   "metadata": {},
   "outputs": [],
   "source": [
    "offset = 0\n",
    "while offset <= 950:\n",
    "    url = f\"https://api.yelp.com/v3/businesses/search?location=berlin&term=food&categories=italian%2C%20pizza&limit=50&offset={offset}\"\n",
    "\n",
    "    headers = {\n",
    "        \"accept\": \"application/json\",\n",
    "        \"Authorization\": f\"Bearer {key}\"\n",
    "    }\n",
    "    response = requests.get(url, headers=headers)\n",
    "    #print(response.status_code)\n",
    "    \n",
    "    resp_dict = response.json()\n",
    "    \n",
    "    for ent in resp_dict[\"businesses\"]:\n",
    "        restaurants[\"name\"].append(ent[\"alias\"])\n",
    "        restaurants[\"rating\"].append(ent[\"rating\"])\n",
    "        restaurants[\"zip_code\"].append(ent[\"location\"][\"zip_code\"])\n",
    "    offset += 50"
   ]
  },
  {
   "cell_type": "code",
   "execution_count": 184,
   "id": "a28e19c8",
   "metadata": {},
   "outputs": [],
   "source": [
    "df_rest = pd.DataFrame.from_dict(restaurants)"
   ]
  },
  {
   "cell_type": "code",
   "execution_count": 185,
   "id": "cd1bd21c",
   "metadata": {},
   "outputs": [
    {
     "name": "stdout",
     "output_type": "stream",
     "text": [
      "<class 'pandas.core.frame.DataFrame'>\n",
      "RangeIndex: 1000 entries, 0 to 999\n",
      "Data columns (total 3 columns):\n",
      " #   Column    Non-Null Count  Dtype  \n",
      "---  ------    --------------  -----  \n",
      " 0   name      1000 non-null   object \n",
      " 1   rating    1000 non-null   float64\n",
      " 2   zip_code  1000 non-null   object \n",
      "dtypes: float64(1), object(2)\n",
      "memory usage: 23.6+ KB\n"
     ]
    }
   ],
   "source": [
    "df_rest.info()"
   ]
  },
  {
   "cell_type": "code",
   "execution_count": 113,
   "id": "2b485932",
   "metadata": {},
   "outputs": [],
   "source": [
    "url = \"https://www.berlinstadtservice.de/xinh/Postleitzahlen_Berlin_Alphabetisch.html\"\n",
    "resp_scrape = requests.get(url)\n",
    "\n",
    "soup = BeautifulSoup(resp_scrape.content, \"html.parser\")"
   ]
  },
  {
   "cell_type": "code",
   "execution_count": 114,
   "id": "c94e387e",
   "metadata": {},
   "outputs": [],
   "source": [
    "table_entries = soup.find_all(\"td\")"
   ]
  },
  {
   "cell_type": "code",
   "execution_count": 115,
   "id": "91a1f880",
   "metadata": {},
   "outputs": [],
   "source": [
    "zip_codes = []"
   ]
  },
  {
   "cell_type": "code",
   "execution_count": 116,
   "id": "0eb2ce6f",
   "metadata": {},
   "outputs": [],
   "source": [
    "for ent in table_entries:\n",
    "    zip_codes.append(ent.text)"
   ]
  },
  {
   "cell_type": "code",
   "execution_count": 117,
   "id": "6121ceac",
   "metadata": {},
   "outputs": [],
   "source": [
    "clean_zip = []"
   ]
  },
  {
   "cell_type": "code",
   "execution_count": 118,
   "id": "605457b7",
   "metadata": {},
   "outputs": [],
   "source": [
    "for ent in zip_codes:\n",
    "    ent = ent.replace(\"B-\", \"\")\n",
    "    clean_zip.append(ent)"
   ]
  },
  {
   "cell_type": "code",
   "execution_count": 199,
   "id": "f3140858",
   "metadata": {},
   "outputs": [],
   "source": [
    "plz = []\n",
    "localities = []\n",
    "for ent in clean_zip:\n",
    "    plz.append(ent.split()[0])\n",
    "    localities.append(\" \".join(ent.split()[1:]))"
   ]
  },
  {
   "cell_type": "code",
   "execution_count": 47,
   "id": "be979363",
   "metadata": {},
   "outputs": [],
   "source": [
    "wiki_resp = requests.get(\"https://en.wikipedia.org/wiki/Boroughs_and_neighborhoods_of_Berlin\")\n",
    "wiki_soup = BeautifulSoup(wiki_resp.content, \"html.parser\")"
   ]
  },
  {
   "cell_type": "code",
   "execution_count": 48,
   "id": "75d13210",
   "metadata": {},
   "outputs": [],
   "source": [
    "first_dl = wiki_soup.find(\"dl\")"
   ]
  },
  {
   "cell_type": "code",
   "execution_count": 49,
   "id": "a3f1c350",
   "metadata": {},
   "outputs": [
    {
     "data": {
      "text/plain": [
       "<dl><dt>(01) <a href=\"/wiki/Mitte\" title=\"Mitte\">Mitte</a></dt></dl>"
      ]
     },
     "execution_count": 49,
     "metadata": {},
     "output_type": "execute_result"
    }
   ],
   "source": [
    "first_dl"
   ]
  },
  {
   "cell_type": "code",
   "execution_count": 59,
   "id": "073859b6",
   "metadata": {},
   "outputs": [
    {
     "data": {
      "text/plain": [
       "<a href=\"/wiki/Mitte_(locality)\" title=\"Mitte (locality)\">Mitte</a>"
      ]
     },
     "execution_count": 59,
     "metadata": {},
     "output_type": "execute_result"
    }
   ],
   "source": [
    "first_dl.find_next(\"tbody\").find_next(\"tr\").find_next(\"tr\").find_next(\"a\").find_next(\"a\")"
   ]
  },
  {
   "cell_type": "code",
   "execution_count": 60,
   "id": "53ce5d77",
   "metadata": {},
   "outputs": [],
   "source": [
    "### Given a table row tr, we find the \"name\" under find_next(\"a\").find_next(\"a\"); \n",
    "### we find the population under find_next(\"td\").find_next(\"td\").find_next(\"td\")\n",
    "#Let's try it out for Mitte\n",
    "name = first_dl.find_next(\"tbody\").find_next(\"tr\").find_next(\"tr\").find_next(\"a\").find_next(\"a\").text\n",
    "population = first_dl.find_next(\"tbody\").find_next(\"tr\").find_next(\"tr\").find_next(\"td\").find_next(\"td\").find_next(\"td\").text"
   ]
  },
  {
   "cell_type": "code",
   "execution_count": 61,
   "id": "c0d1879b",
   "metadata": {},
   "outputs": [
    {
     "data": {
      "text/plain": [
       "'Mitte'"
      ]
     },
     "execution_count": 61,
     "metadata": {},
     "output_type": "execute_result"
    }
   ],
   "source": [
    "name"
   ]
  },
  {
   "cell_type": "code",
   "execution_count": 62,
   "id": "165655a0",
   "metadata": {},
   "outputs": [
    {
     "data": {
      "text/plain": [
       "'79,582\\n'"
      ]
     },
     "execution_count": 62,
     "metadata": {},
     "output_type": "execute_result"
    }
   ],
   "source": [
    "population"
   ]
  },
  {
   "cell_type": "code",
   "execution_count": 85,
   "id": "b5c69de3",
   "metadata": {},
   "outputs": [],
   "source": [
    "names = []\n",
    "populations = []"
   ]
  },
  {
   "cell_type": "code",
   "execution_count": 75,
   "id": "10e55291",
   "metadata": {},
   "outputs": [],
   "source": [
    "# look for dl then find_next(tbody) and find_next(\"tr\") to ignore the header and store in cur_table.\n",
    "# cur_row is then always one find_next(\"tr\") more from wherever we are and see above for access to info inside of cur_row\n",
    "cur_table = wiki_soup.find(\"dl\").find_next(\"tbody\").find_next(\"tr\")\n",
    "cur_row = cur_table.find_next(\"tr\")\n",
    "i =  0\n",
    "for i in range(6):\n",
    "    #print(cur_row.find_next(\"a\").find_next(\"a\").text)\n",
    "    names.append(cur_row.find_next(\"a\").find_next(\"a\").text)\n",
    "    #print(cur_row.find_next(\"td\").find_next(\"td\").find_next(\"td\").text)\n",
    "    populations.append(cur_row.find_next(\"td\").find_next(\"td\").find_next(\"td\").text)\n",
    "    cur_row = cur_row.find_next(\"tr\")\n",
    "    i += i"
   ]
  },
  {
   "cell_type": "code",
   "execution_count": 76,
   "id": "9d1664c9",
   "metadata": {},
   "outputs": [
    {
     "data": {
      "text/plain": [
       "['Mitte', 'Moabit', 'Hansaviertel', 'Tiergarten', 'Wedding', 'Gesundbrunnen']"
      ]
     },
     "execution_count": 76,
     "metadata": {},
     "output_type": "execute_result"
    }
   ],
   "source": [
    "names"
   ]
  },
  {
   "cell_type": "code",
   "execution_count": 77,
   "id": "56dda763",
   "metadata": {},
   "outputs": [
    {
     "data": {
      "text/plain": [
       "['79,582\\n', '69,425\\n', '5,889\\n', '12,486\\n', '76,363\\n', '82,729\\n']"
      ]
     },
     "execution_count": 77,
     "metadata": {},
     "output_type": "execute_result"
    }
   ],
   "source": [
    "populations"
   ]
  },
  {
   "cell_type": "code",
   "execution_count": 78,
   "id": "4b69d1bc",
   "metadata": {},
   "outputs": [],
   "source": [
    "### let's try it at scale\n",
    "all_dls = wiki_soup.find_all(\"dl\")"
   ]
  },
  {
   "cell_type": "code",
   "execution_count": 88,
   "id": "0219a802",
   "metadata": {
    "collapsed": true
   },
   "outputs": [
    {
     "name": "stdout",
     "output_type": "stream",
     "text": [
      "<tr>\n",
      "<td style=\"border-bottom:1px solid gray;\"><span typeof=\"mw:File\"><a class=\"mw-file-description\" href=\"/wiki/File:DEU_Berlin-Mitte_(district)_COA.svg\"><img class=\"mw-file-element\" data-file-height=\"610\" data-file-width=\"416\" decoding=\"async\" height=\"22\" src=\"//upload.wikimedia.org/wikipedia/commons/thumb/b/b9/DEU_Berlin-Mitte_%28district%29_COA.svg/15px-DEU_Berlin-Mitte_%28district%29_COA.svg.png\" srcset=\"//upload.wikimedia.org/wikipedia/commons/thumb/b/b9/DEU_Berlin-Mitte_%28district%29_COA.svg/23px-DEU_Berlin-Mitte_%28district%29_COA.svg.png 1.5x, //upload.wikimedia.org/wikipedia/commons/thumb/b/b9/DEU_Berlin-Mitte_%28district%29_COA.svg/30px-DEU_Berlin-Mitte_%28district%29_COA.svg.png 2x\" width=\"15\"/></a></span> (0101) <a href=\"/wiki/Mitte_(locality)\" title=\"Mitte (locality)\">Mitte</a>\n",
      "</td>\n",
      "<td style=\"border-bottom:1px solid gray; text-align:right;\">10.70\n",
      "</td>\n",
      "<td style=\"border-bottom:1px solid gray; text-align:right;\">79,582\n",
      "</td>\n",
      "<td style=\"border-bottom:1px solid gray; text-align:right;\">7,445\n",
      "</td>\n",
      "<td rowspan=\"6\"><span typeof=\"mw:File\"><a class=\"mw-file-description\" href=\"/wiki/File:Berlin_Mitte.svg\"><img class=\"mw-file-element\" data-file-height=\"252\" data-file-width=\"271\" decoding=\"async\" height=\"186\" src=\"//upload.wikimedia.org/wikipedia/commons/thumb/7/7d/Berlin_Mitte.svg/200px-Berlin_Mitte.svg.png\" srcset=\"//upload.wikimedia.org/wikipedia/commons/thumb/7/7d/Berlin_Mitte.svg/300px-Berlin_Mitte.svg.png 1.5x, //upload.wikimedia.org/wikipedia/commons/thumb/7/7d/Berlin_Mitte.svg/400px-Berlin_Mitte.svg.png 2x\" width=\"200\"/></a></span>\n",
      "</td></tr>\n",
      "<tr>\n",
      "<td style=\"border-bottom:1px solid gray;\"><span typeof=\"mw:File\"><a class=\"mw-file-description\" href=\"/wiki/File:Coat_of_arms_de-be_friedrichshain_1991.png\"><img class=\"mw-file-element\" data-file-height=\"149\" data-file-width=\"105\" decoding=\"async\" height=\"21\" src=\"//upload.wikimedia.org/wikipedia/commons/thumb/b/b8/Coat_of_arms_de-be_friedrichshain_1991.png/15px-Coat_of_arms_de-be_friedrichshain_1991.png\" srcset=\"//upload.wikimedia.org/wikipedia/commons/thumb/b/b8/Coat_of_arms_de-be_friedrichshain_1991.png/23px-Coat_of_arms_de-be_friedrichshain_1991.png 1.5x, //upload.wikimedia.org/wikipedia/commons/thumb/b/b8/Coat_of_arms_de-be_friedrichshain_1991.png/30px-Coat_of_arms_de-be_friedrichshain_1991.png 2x\" width=\"15\"/></a></span> (0201) <a href=\"/wiki/Friedrichshain\" title=\"Friedrichshain\">Friedrichshain</a>                                  \n",
      "</td>\n",
      "<td style=\"border-bottom:1px solid gray; text-align:right;\">9.78\n",
      "</td>\n",
      "<td style=\"border-bottom:1px solid gray; text-align:right;\">114,050\n",
      "</td>\n",
      "<td style=\"border-bottom:1px solid gray; text-align:right;\">11,662\n",
      "</td>\n",
      "<td rowspan=\"2\"><span typeof=\"mw:File\"><a class=\"mw-file-description\" href=\"/wiki/File:Berlin_Friedrichshain-Kreuzberg.svg\"><img class=\"mw-file-element\" data-file-height=\"185\" data-file-width=\"246\" decoding=\"async\" height=\"150\" src=\"//upload.wikimedia.org/wikipedia/commons/thumb/8/86/Berlin_Friedrichshain-Kreuzberg.svg/200px-Berlin_Friedrichshain-Kreuzberg.svg.png\" srcset=\"//upload.wikimedia.org/wikipedia/commons/thumb/8/86/Berlin_Friedrichshain-Kreuzberg.svg/300px-Berlin_Friedrichshain-Kreuzberg.svg.png 1.5x, //upload.wikimedia.org/wikipedia/commons/thumb/8/86/Berlin_Friedrichshain-Kreuzberg.svg/400px-Berlin_Friedrichshain-Kreuzberg.svg.png 2x\" width=\"200\"/></a></span>\n",
      "</td></tr>\n",
      "<tr>\n",
      "<td style=\"border-bottom:1px solid gray;\"><span typeof=\"mw:File\"><a class=\"mw-file-description\" href=\"/wiki/File:DEU_Prenzlauer_Berg_(Bezirk)_COA.svg\"><img class=\"mw-file-element\" data-file-height=\"610\" data-file-width=\"416\" decoding=\"async\" height=\"22\" src=\"//upload.wikimedia.org/wikipedia/commons/thumb/4/49/DEU_Prenzlauer_Berg_%28Bezirk%29_COA.svg/15px-DEU_Prenzlauer_Berg_%28Bezirk%29_COA.svg.png\" srcset=\"//upload.wikimedia.org/wikipedia/commons/thumb/4/49/DEU_Prenzlauer_Berg_%28Bezirk%29_COA.svg/23px-DEU_Prenzlauer_Berg_%28Bezirk%29_COA.svg.png 1.5x, //upload.wikimedia.org/wikipedia/commons/thumb/4/49/DEU_Prenzlauer_Berg_%28Bezirk%29_COA.svg/30px-DEU_Prenzlauer_Berg_%28Bezirk%29_COA.svg.png 2x\" width=\"15\"/></a></span> (0301) <a href=\"/wiki/Prenzlauer_Berg\" title=\"Prenzlauer Berg\">Prenzlauer Berg</a>\n",
      "</td>\n",
      "<td style=\"border-bottom:1px solid gray; text-align:right;\">11.00\n",
      "</td>\n",
      "<td style=\"border-bottom:1px solid gray; text-align:right;\">142,319\n",
      "</td>\n",
      "<td style=\"border-bottom:1px solid gray; text-align:right;\">12,991\n",
      "</td>\n",
      "<td rowspan=\"13\"><span typeof=\"mw:File\"><a class=\"mw-file-description\" href=\"/wiki/File:Berlin_Pankow.svg\"><img class=\"mw-file-element\" data-file-height=\"511\" data-file-width=\"447\" decoding=\"async\" height=\"229\" src=\"//upload.wikimedia.org/wikipedia/commons/thumb/5/57/Berlin_Pankow.svg/200px-Berlin_Pankow.svg.png\" srcset=\"//upload.wikimedia.org/wikipedia/commons/thumb/5/57/Berlin_Pankow.svg/301px-Berlin_Pankow.svg.png 1.5x, //upload.wikimedia.org/wikipedia/commons/thumb/5/57/Berlin_Pankow.svg/401px-Berlin_Pankow.svg.png 2x\" width=\"200\"/></a></span>\n",
      "</td></tr>\n",
      "<tr>\n",
      "<td style=\"border-bottom:1px solid gray;\"><span typeof=\"mw:File\"><a class=\"mw-file-description\" href=\"/wiki/File:DEU_Charlottenburg_(district)_COA.svg\"><img class=\"mw-file-element\" data-file-height=\"610\" data-file-width=\"416\" decoding=\"async\" height=\"22\" src=\"//upload.wikimedia.org/wikipedia/commons/thumb/2/2f/DEU_Charlottenburg_%28district%29_COA.svg/15px-DEU_Charlottenburg_%28district%29_COA.svg.png\" srcset=\"//upload.wikimedia.org/wikipedia/commons/thumb/2/2f/DEU_Charlottenburg_%28district%29_COA.svg/23px-DEU_Charlottenburg_%28district%29_COA.svg.png 1.5x, //upload.wikimedia.org/wikipedia/commons/thumb/2/2f/DEU_Charlottenburg_%28district%29_COA.svg/30px-DEU_Charlottenburg_%28district%29_COA.svg.png 2x\" width=\"15\"/></a></span> (0401) <a href=\"/wiki/Charlottenburg\" title=\"Charlottenburg\">Charlottenburg</a>\n",
      "</td>\n",
      "<td style=\"border-bottom:1px solid gray; text-align:right;\">10.60\n",
      "</td>\n",
      "<td style=\"border-bottom:1px solid gray; text-align:right;\">118,704\n",
      "</td>\n",
      "<td style=\"border-bottom:1px solid gray; text-align:right;\">11,198\n",
      "</td>\n",
      "<td rowspan=\"7\"><span typeof=\"mw:File\"><a class=\"mw-file-description\" href=\"/wiki/File:Berlin_Charlottenburg-Wilmersdorf.svg\"><img class=\"mw-file-element\" data-file-height=\"323\" data-file-width=\"323\" decoding=\"async\" height=\"200\" src=\"//upload.wikimedia.org/wikipedia/commons/thumb/6/6f/Berlin_Charlottenburg-Wilmersdorf.svg/200px-Berlin_Charlottenburg-Wilmersdorf.svg.png\" srcset=\"//upload.wikimedia.org/wikipedia/commons/thumb/6/6f/Berlin_Charlottenburg-Wilmersdorf.svg/300px-Berlin_Charlottenburg-Wilmersdorf.svg.png 1.5x, //upload.wikimedia.org/wikipedia/commons/thumb/6/6f/Berlin_Charlottenburg-Wilmersdorf.svg/400px-Berlin_Charlottenburg-Wilmersdorf.svg.png 2x\" width=\"200\"/></a></span>\n",
      "</td></tr>\n",
      "<tr>\n",
      "<td style=\"border-bottom:1px solid gray;\"><span typeof=\"mw:File\"><a class=\"mw-file-description\" href=\"/wiki/File:Coats_of_arms_of_None.svg\"><img class=\"mw-file-element\" data-file-height=\"150\" data-file-width=\"125\" decoding=\"async\" height=\"18\" src=\"//upload.wikimedia.org/wikipedia/commons/thumb/c/c1/Coats_of_arms_of_None.svg/15px-Coats_of_arms_of_None.svg.png\" srcset=\"//upload.wikimedia.org/wikipedia/commons/thumb/c/c1/Coats_of_arms_of_None.svg/23px-Coats_of_arms_of_None.svg.png 1.5x, //upload.wikimedia.org/wikipedia/commons/thumb/c/c1/Coats_of_arms_of_None.svg/30px-Coats_of_arms_of_None.svg.png 2x\" width=\"15\"/></a></span> (0501) <a href=\"/wiki/Spandau_(locality)\" title=\"Spandau (locality)\">Spandau</a>\n",
      "</td>\n",
      "<td style=\"border-bottom:1px solid gray; text-align:right;\">8.03\n",
      "</td>\n",
      "<td style=\"border-bottom:1px solid gray; text-align:right;\">33,433\n",
      "</td>\n",
      "<td style=\"border-bottom:1px solid gray; text-align:right;\">4,164\n",
      "</td>\n",
      "<td rowspan=\"9\"><span typeof=\"mw:File\"><a class=\"mw-file-description\" href=\"/wiki/File:Berlin_Spandau.svg\" title=\"District map of Spandau\"><img alt=\"District map of Spandau\" class=\"mw-file-element\" data-file-height=\"530\" data-file-width=\"530\" decoding=\"async\" height=\"200\" src=\"//upload.wikimedia.org/wikipedia/commons/thumb/f/fa/Berlin_Spandau.svg/200px-Berlin_Spandau.svg.png\" srcset=\"//upload.wikimedia.org/wikipedia/commons/thumb/f/fa/Berlin_Spandau.svg/300px-Berlin_Spandau.svg.png 1.5x, //upload.wikimedia.org/wikipedia/commons/thumb/f/fa/Berlin_Spandau.svg/400px-Berlin_Spandau.svg.png 2x\" width=\"200\"/></a></span>\n",
      "</td></tr>\n",
      "<tr>\n",
      "<td style=\"border-bottom:1px solid gray;\"><span typeof=\"mw:File\"><a class=\"mw-file-description\" href=\"/wiki/File:DEU_District_Steglitz_COA.svg\"><img class=\"mw-file-element\" data-file-height=\"610\" data-file-width=\"416\" decoding=\"async\" height=\"22\" src=\"//upload.wikimedia.org/wikipedia/commons/thumb/3/36/DEU_District_Steglitz_COA.svg/15px-DEU_District_Steglitz_COA.svg.png\" srcset=\"//upload.wikimedia.org/wikipedia/commons/thumb/3/36/DEU_District_Steglitz_COA.svg/23px-DEU_District_Steglitz_COA.svg.png 1.5x, //upload.wikimedia.org/wikipedia/commons/thumb/3/36/DEU_District_Steglitz_COA.svg/30px-DEU_District_Steglitz_COA.svg.png 2x\" width=\"15\"/></a></span> (0601) <a href=\"/wiki/Steglitz\" title=\"Steglitz\">Steglitz</a>\n",
      "</td>\n",
      "<td style=\"border-bottom:1px solid gray; text-align:right;\">6.79\n",
      "</td>\n",
      "<td style=\"border-bottom:1px solid gray; text-align:right;\">70,555\n",
      "</td>\n",
      "<td style=\"border-bottom:1px solid gray; text-align:right;\">10,391\n",
      "</td>\n",
      "<td rowspan=\"8\"><span typeof=\"mw:File\"><a class=\"mw-file-description\" href=\"/wiki/File:Berlin_Steglitz-Zehlendorf.svg\"><img class=\"mw-file-element\" data-file-height=\"373\" data-file-width=\"564\" decoding=\"async\" height=\"132\" src=\"//upload.wikimedia.org/wikipedia/commons/thumb/f/fe/Berlin_Steglitz-Zehlendorf.svg/200px-Berlin_Steglitz-Zehlendorf.svg.png\" srcset=\"//upload.wikimedia.org/wikipedia/commons/thumb/f/fe/Berlin_Steglitz-Zehlendorf.svg/300px-Berlin_Steglitz-Zehlendorf.svg.png 1.5x, //upload.wikimedia.org/wikipedia/commons/thumb/f/fe/Berlin_Steglitz-Zehlendorf.svg/400px-Berlin_Steglitz-Zehlendorf.svg.png 2x\" width=\"200\"/></a></span>\n",
      "</td></tr>\n",
      "<tr>\n",
      "<td style=\"border-bottom:1px solid gray;\"><span typeof=\"mw:File\"><a class=\"mw-file-description\" href=\"/wiki/File:Coat_of_arms_de-be_schoeneberg_1956.png\"><img class=\"mw-file-element\" data-file-height=\"1201\" data-file-width=\"831\" decoding=\"async\" height=\"22\" src=\"//upload.wikimedia.org/wikipedia/commons/thumb/f/fe/Coat_of_arms_de-be_schoeneberg_1956.png/15px-Coat_of_arms_de-be_schoeneberg_1956.png\" srcset=\"//upload.wikimedia.org/wikipedia/commons/thumb/f/fe/Coat_of_arms_de-be_schoeneberg_1956.png/23px-Coat_of_arms_de-be_schoeneberg_1956.png 1.5x, //upload.wikimedia.org/wikipedia/commons/thumb/f/fe/Coat_of_arms_de-be_schoeneberg_1956.png/30px-Coat_of_arms_de-be_schoeneberg_1956.png 2x\" width=\"15\"/></a></span> (0701) <a href=\"/wiki/Sch%C3%B6neberg\" title=\"Schöneberg\">Schöneberg</a>                                      \n",
      "</td>\n",
      "<td style=\"border-bottom:1px solid gray; text-align:right;\">10.60\n",
      "</td>\n",
      "<td style=\"border-bottom:1px solid gray; text-align:right;\">116,743\n",
      "</td>\n",
      "<td style=\"border-bottom:1px solid gray; text-align:right;\">11,003\n",
      "</td>\n",
      "<td rowspan=\"6\"><span typeof=\"mw:File\"><a class=\"mw-file-description\" href=\"/wiki/File:Berlin_Tempelhof-Sch%C3%B6neberg.svg\" title=\"District map of Tempelhof-Schöneberg\"><img alt=\"District map of Tempelhof-Schöneberg\" class=\"mw-file-element\" data-file-height=\"427\" data-file-width=\"361\" decoding=\"async\" height=\"236\" src=\"//upload.wikimedia.org/wikipedia/commons/thumb/1/17/Berlin_Tempelhof-Sch%C3%B6neberg.svg/199px-Berlin_Tempelhof-Sch%C3%B6neberg.svg.png\" srcset=\"//upload.wikimedia.org/wikipedia/commons/thumb/1/17/Berlin_Tempelhof-Sch%C3%B6neberg.svg/299px-Berlin_Tempelhof-Sch%C3%B6neberg.svg.png 1.5x, //upload.wikimedia.org/wikipedia/commons/thumb/1/17/Berlin_Tempelhof-Sch%C3%B6neberg.svg/399px-Berlin_Tempelhof-Sch%C3%B6neberg.svg.png 2x\" width=\"199\"/></a></span>\n",
      "</td></tr>\n",
      "<tr>\n",
      "<td style=\"border-bottom:1px solid gray;\"><span typeof=\"mw:File\"><a class=\"mw-file-description\" href=\"/wiki/File:Coats_of_arms_of_None.svg\"><img class=\"mw-file-element\" data-file-height=\"150\" data-file-width=\"125\" decoding=\"async\" height=\"18\" src=\"//upload.wikimedia.org/wikipedia/commons/thumb/c/c1/Coats_of_arms_of_None.svg/15px-Coats_of_arms_of_None.svg.png\" srcset=\"//upload.wikimedia.org/wikipedia/commons/thumb/c/c1/Coats_of_arms_of_None.svg/23px-Coats_of_arms_of_None.svg.png 1.5x, //upload.wikimedia.org/wikipedia/commons/thumb/c/c1/Coats_of_arms_of_None.svg/30px-Coats_of_arms_of_None.svg.png 2x\" width=\"15\"/></a></span> (0801) <a href=\"/wiki/Neuk%C3%B6lln_(locality)\" title=\"Neukölln (locality)\">Neukölln</a>\n",
      "</td>\n",
      "<td style=\"border-bottom:1px solid gray; text-align:right;\">11.70\n",
      "</td>\n",
      "<td style=\"border-bottom:1px solid gray; text-align:right;\">154,127\n",
      "</td>\n",
      "<td style=\"border-bottom:1px solid gray; text-align:right;\">13,173\n",
      "</td>\n",
      "<td rowspan=\"5\"><span typeof=\"mw:File\"><a class=\"mw-file-description\" href=\"/wiki/File:Berlin_Neuk%C3%B6lln.svg\" title=\"District map of Neukölln\"><img alt=\"District map of Neukölln\" class=\"mw-file-element\" data-file-height=\"333\" data-file-width=\"333\" decoding=\"async\" height=\"200\" src=\"//upload.wikimedia.org/wikipedia/commons/thumb/5/5b/Berlin_Neuk%C3%B6lln.svg/200px-Berlin_Neuk%C3%B6lln.svg.png\" srcset=\"//upload.wikimedia.org/wikipedia/commons/thumb/5/5b/Berlin_Neuk%C3%B6lln.svg/300px-Berlin_Neuk%C3%B6lln.svg.png 1.5x, //upload.wikimedia.org/wikipedia/commons/thumb/5/5b/Berlin_Neuk%C3%B6lln.svg/400px-Berlin_Neuk%C3%B6lln.svg.png 2x\" width=\"200\"/></a></span>\n",
      "</td></tr>\n",
      "<tr>\n",
      "<td style=\"border-bottom:1px solid gray;\"><span typeof=\"mw:File\"><a class=\"mw-file-description\" href=\"/wiki/File:Coat_of_arms_de-be_treptow_1992.png\"><img class=\"mw-file-element\" data-file-height=\"858\" data-file-width=\"591\" decoding=\"async\" height=\"22\" src=\"//upload.wikimedia.org/wikipedia/commons/thumb/0/01/Coat_of_arms_de-be_treptow_1992.png/15px-Coat_of_arms_de-be_treptow_1992.png\" srcset=\"//upload.wikimedia.org/wikipedia/commons/thumb/0/01/Coat_of_arms_de-be_treptow_1992.png/23px-Coat_of_arms_de-be_treptow_1992.png 1.5x, //upload.wikimedia.org/wikipedia/commons/thumb/0/01/Coat_of_arms_de-be_treptow_1992.png/30px-Coat_of_arms_de-be_treptow_1992.png 2x\" width=\"15\"/></a></span> (0901) <a href=\"/wiki/Alt-Treptow\" title=\"Alt-Treptow\">Alt-Treptow</a>\n",
      "</td>\n",
      "<td style=\"border-bottom:1px solid gray; text-align:right;\">2.31\n",
      "</td>\n",
      "<td style=\"border-bottom:1px solid gray; text-align:right;\">10,426\n",
      "</td>\n",
      "<td style=\"border-bottom:1px solid gray; text-align:right;\">4,513\n",
      "</td>\n",
      "<td rowspan=\"15\"><span typeof=\"mw:File\"><a class=\"mw-file-description\" href=\"/wiki/File:Berlin_Treptow-K%C3%B6penick.svg\" title=\"District map of Treptow-Köpenick\"><img alt=\"District map of Treptow-Köpenick\" class=\"mw-file-element\" data-file-height=\"540\" data-file-width=\"644\" decoding=\"async\" height=\"167\" src=\"//upload.wikimedia.org/wikipedia/commons/thumb/a/a8/Berlin_Treptow-K%C3%B6penick.svg/199px-Berlin_Treptow-K%C3%B6penick.svg.png\" srcset=\"//upload.wikimedia.org/wikipedia/commons/thumb/a/a8/Berlin_Treptow-K%C3%B6penick.svg/299px-Berlin_Treptow-K%C3%B6penick.svg.png 1.5x, //upload.wikimedia.org/wikipedia/commons/thumb/a/a8/Berlin_Treptow-K%C3%B6penick.svg/398px-Berlin_Treptow-K%C3%B6penick.svg.png 2x\" width=\"199\"/></a></span>\n",
      "</td></tr>\n",
      "<tr>\n",
      "<td style=\"border-bottom:1px solid gray;\"><span typeof=\"mw:File\"><a class=\"mw-file-description\" href=\"/wiki/File:Coat_of_arms_de-be_marzahn_1992.png\"><img class=\"mw-file-element\" data-file-height=\"858\" data-file-width=\"591\" decoding=\"async\" height=\"22\" src=\"//upload.wikimedia.org/wikipedia/commons/thumb/c/c6/Coat_of_arms_de-be_marzahn_1992.png/15px-Coat_of_arms_de-be_marzahn_1992.png\" srcset=\"//upload.wikimedia.org/wikipedia/commons/thumb/c/c6/Coat_of_arms_de-be_marzahn_1992.png/23px-Coat_of_arms_de-be_marzahn_1992.png 1.5x, //upload.wikimedia.org/wikipedia/commons/thumb/c/c6/Coat_of_arms_de-be_marzahn_1992.png/30px-Coat_of_arms_de-be_marzahn_1992.png 2x\" width=\"15\"/></a></span> (1001) <a href=\"/wiki/Marzahn\" title=\"Marzahn\">Marzahn</a>\n",
      "</td>\n",
      "<td style=\"border-bottom:1px solid gray; text-align:right;\">19.50\n",
      "</td>\n",
      "<td style=\"border-bottom:1px solid gray; text-align:right;\">102,398\n",
      "</td>\n",
      "<td style=\"border-bottom:1px solid gray; text-align:right;\">5,240\n",
      "</td>\n",
      "<td rowspan=\"5\"><span typeof=\"mw:File\"><a class=\"mw-file-description\" href=\"/wiki/File:Berlin_Marzahn-Hellersdorf.svg\" title=\"District map of Marzahn-Hellersdorf\"><img alt=\"District map of Marzahn-Hellersdorf\" class=\"mw-file-element\" data-file-height=\"348\" data-file-width=\"348\" decoding=\"async\" height=\"200\" src=\"//upload.wikimedia.org/wikipedia/commons/thumb/b/bc/Berlin_Marzahn-Hellersdorf.svg/200px-Berlin_Marzahn-Hellersdorf.svg.png\" srcset=\"//upload.wikimedia.org/wikipedia/commons/thumb/b/bc/Berlin_Marzahn-Hellersdorf.svg/300px-Berlin_Marzahn-Hellersdorf.svg.png 1.5x, //upload.wikimedia.org/wikipedia/commons/thumb/b/bc/Berlin_Marzahn-Hellersdorf.svg/400px-Berlin_Marzahn-Hellersdorf.svg.png 2x\" width=\"200\"/></a></span>\n",
      "</td></tr>\n",
      "<tr>\n",
      "<td style=\"border-bottom:1px solid gray;\"><span typeof=\"mw:File\"><a class=\"mw-file-description\" href=\"/wiki/File:Coat_of_arms_de-be_friedrichsfelde_1987.png\"><img class=\"mw-file-element\" data-file-height=\"1329\" data-file-width=\"1052\" decoding=\"async\" height=\"19\" src=\"//upload.wikimedia.org/wikipedia/commons/thumb/a/ab/Coat_of_arms_de-be_friedrichsfelde_1987.png/15px-Coat_of_arms_de-be_friedrichsfelde_1987.png\" srcset=\"//upload.wikimedia.org/wikipedia/commons/thumb/a/ab/Coat_of_arms_de-be_friedrichsfelde_1987.png/23px-Coat_of_arms_de-be_friedrichsfelde_1987.png 1.5x, //upload.wikimedia.org/wikipedia/commons/thumb/a/ab/Coat_of_arms_de-be_friedrichsfelde_1987.png/30px-Coat_of_arms_de-be_friedrichsfelde_1987.png 2x\" width=\"15\"/></a></span> (1101) <a href=\"/wiki/Friedrichsfelde\" title=\"Friedrichsfelde\">Friedrichsfelde</a>\n",
      "</td>\n",
      "<td style=\"border-bottom:1px solid gray; text-align:right;\">5.55\n",
      "</td>\n",
      "<td style=\"border-bottom:1px solid gray; text-align:right;\">50,010\n",
      "</td>\n",
      "<td style=\"border-bottom:1px solid gray; text-align:right;\">9,011\n",
      "</td>\n",
      "<td rowspan=\"10\"><span typeof=\"mw:File\"><a class=\"mw-file-description\" href=\"/wiki/File:Berlin_Lichtenberg.svg\" title=\"District map of Lichtenberg\"><img alt=\"District map of Lichtenberg\" class=\"mw-file-element\" data-file-height=\"421\" data-file-width=\"421\" decoding=\"async\" height=\"200\" src=\"//upload.wikimedia.org/wikipedia/commons/thumb/9/95/Berlin_Lichtenberg.svg/200px-Berlin_Lichtenberg.svg.png\" srcset=\"//upload.wikimedia.org/wikipedia/commons/thumb/9/95/Berlin_Lichtenberg.svg/300px-Berlin_Lichtenberg.svg.png 1.5x, //upload.wikimedia.org/wikipedia/commons/thumb/9/95/Berlin_Lichtenberg.svg/400px-Berlin_Lichtenberg.svg.png 2x\" width=\"200\"/></a></span>\n",
      "</td></tr>\n",
      "<tr>\n",
      "<td style=\"border-bottom:1px solid gray;\"><span typeof=\"mw:File\"><a class=\"mw-file-description\" href=\"/wiki/File:Coats_of_arms_of_None.svg\"><img class=\"mw-file-element\" data-file-height=\"150\" data-file-width=\"125\" decoding=\"async\" height=\"18\" src=\"//upload.wikimedia.org/wikipedia/commons/thumb/c/c1/Coats_of_arms_of_None.svg/15px-Coats_of_arms_of_None.svg.png\" srcset=\"//upload.wikimedia.org/wikipedia/commons/thumb/c/c1/Coats_of_arms_of_None.svg/23px-Coats_of_arms_of_None.svg.png 1.5x, //upload.wikimedia.org/wikipedia/commons/thumb/c/c1/Coats_of_arms_of_None.svg/30px-Coats_of_arms_of_None.svg.png 2x\" width=\"15\"/></a></span> (1201) <a href=\"/wiki/Reinickendorf_(locality)\" title=\"Reinickendorf (locality)\">Reinickendorf</a>\n",
      "</td>\n",
      "<td style=\"border-bottom:1px solid gray; text-align:right;\">10.50\n",
      "</td>\n",
      "<td style=\"border-bottom:1px solid gray; text-align:right;\">72,859\n",
      "</td>\n",
      "<td style=\"border-bottom:1px solid gray; text-align:right;\">6,939\n",
      "</td>\n",
      "<td rowspan=\"11\"><span typeof=\"mw:File\"><a class=\"mw-file-description\" href=\"/wiki/File:Berlin_Reinickendorf.svg\" title=\"District map of Reinickendorf\"><img alt=\"District map of Reinickendorf\" class=\"mw-file-element\" data-file-height=\"388\" data-file-width=\"388\" decoding=\"async\" height=\"199\" src=\"//upload.wikimedia.org/wikipedia/commons/thumb/3/3f/Berlin_Reinickendorf.svg/199px-Berlin_Reinickendorf.svg.png\" srcset=\"//upload.wikimedia.org/wikipedia/commons/thumb/3/3f/Berlin_Reinickendorf.svg/299px-Berlin_Reinickendorf.svg.png 1.5x, //upload.wikimedia.org/wikipedia/commons/thumb/3/3f/Berlin_Reinickendorf.svg/398px-Berlin_Reinickendorf.svg.png 2x\" width=\"199\"/></a></span>\n",
      "</td></tr>\n"
     ]
    }
   ],
   "source": [
    "lst_of_name_pop = []\n",
    "for dl in all_dls:\n",
    "    cur_table = dl.find_next(\"tbody\").find_next(\"tr\")\n",
    "    #print(cur_table)\n",
    "    cur_row = cur_table.find_next(\"tr\")\n",
    "    #print(cur_row)\n",
    "    i = 0\n",
    "    for i in range(15):\n",
    "        pop = cur_row.find_next(\"td\").find_next(\"td\").find_next(\"td\").text\n",
    "        name = cur_row.find_next(\"a\").find_next(\"a\").text\n",
    "        \n",
    "        name_pop = (name, pop)\n",
    "        lst_of_name_pop.append(name_pop)\n",
    "        #names.append(cur_row.find_next(\"a\").find_next(\"a\").text)\n",
    "        #populations.append(cur_row.find_next(\"td\").find_next(\"td\").find_next(\"td\").text)\n",
    "        i += 1\n",
    "        cur_row = cur_row.find_next(\"tr\")"
   ]
  },
  {
   "cell_type": "code",
   "execution_count": 89,
   "id": "81412701",
   "metadata": {
    "collapsed": true
   },
   "outputs": [
    {
     "data": {
      "text/plain": [
       "[('Mitte', '79,582\\n'),\n",
       " ('Moabit', '69,425\\n'),\n",
       " ('Hansaviertel', '5,889\\n'),\n",
       " ('Tiergarten', '12,486\\n'),\n",
       " ('Wedding', '76,363\\n'),\n",
       " ('Gesundbrunnen', '82,729\\n'),\n",
       " ('Friedrichshain', '114,050\\n'),\n",
       " ('Friedrichshain', '114,050\\n'),\n",
       " ('Kreuzberg', '147,227\\n'),\n",
       " ('Prenzlauer Berg', '142,319\\n'),\n",
       " ('Prenzlauer Berg', '142,319\\n'),\n",
       " ('Weißensee', '45,485\\n'),\n",
       " ('Blankenburg', '6,550\\n'),\n",
       " ('Heinersdorf', '6,580\\n'),\n",
       " ('Karow', '18,258\\n'),\n",
       " ('Friedrichshain', '114,050\\n'),\n",
       " ('Kreuzberg', '147,227\\n'),\n",
       " ('Prenzlauer Berg', '142,319\\n'),\n",
       " ('Prenzlauer Berg', '142,319\\n'),\n",
       " ('Weißensee', '45,485\\n'),\n",
       " ('Blankenburg', '6,550\\n'),\n",
       " ('Heinersdorf', '6,580\\n'),\n",
       " ('Karow', '18,258\\n'),\n",
       " ('Stadtrandsiedlung Malchow', '1,166\\n'),\n",
       " ('Pankow', '55,854\\n'),\n",
       " ('Blankenfelde', '1,917\\n'),\n",
       " ('Buch', '13,188\\n'),\n",
       " ('Französisch Buchholz', '18,766\\n'),\n",
       " ('Niederschönhausen', '26,903\\n'),\n",
       " ('Rosenthal', '8,933\\n'),\n",
       " ('Prenzlauer Berg', '142,319\\n'),\n",
       " ('Weißensee', '45,485\\n'),\n",
       " ('Blankenburg', '6,550\\n'),\n",
       " ('Heinersdorf', '6,580\\n'),\n",
       " ('Karow', '18,258\\n'),\n",
       " ('Stadtrandsiedlung Malchow', '1,166\\n'),\n",
       " ('Pankow', '55,854\\n'),\n",
       " ('Blankenfelde', '1,917\\n'),\n",
       " ('Buch', '13,188\\n'),\n",
       " ('Französisch Buchholz', '18,766\\n'),\n",
       " ('Niederschönhausen', '26,903\\n'),\n",
       " ('Rosenthal', '8,933\\n'),\n",
       " ('Wilhelmsruh', '7,216\\n'),\n",
       " ('Charlottenburg', '118,704\\n'),\n",
       " ('Charlottenburg', '118,704\\n'),\n",
       " ('Charlottenburg', '118,704\\n'),\n",
       " ('Wilmersdorf', '92,815\\n'),\n",
       " ('Schmargendorf', '19,750\\n'),\n",
       " ('Grunewald', '10,014\\n'),\n",
       " ('Westend', '37,883\\n'),\n",
       " ('Charlottenburg-Nord', '17,327\\n'),\n",
       " ('Halensee', '13,966\\n'),\n",
       " ('Spandau', '33,433\\n'),\n",
       " ('Spandau', '33,433\\n'),\n",
       " ('Haselhorst', '13,668\\n'),\n",
       " ('Siemensstadt', '11,388\\n'),\n",
       " ('Staaken', '41,470\\n'),\n",
       " ('Gatow', '3,908\\n'),\n",
       " ('Kladow', '13,628\\n'),\n",
       " ('Hakenfelde', '26,337\\n'),\n",
       " ('Spandau', '33,433\\n'),\n",
       " ('Haselhorst', '13,668\\n'),\n",
       " ('Siemensstadt', '11,388\\n'),\n",
       " ('Staaken', '41,470\\n'),\n",
       " ('Gatow', '3,908\\n'),\n",
       " ('Kladow', '13,628\\n'),\n",
       " ('Hakenfelde', '26,337\\n'),\n",
       " ('Falkenhagener Feld', '34,778\\n'),\n",
       " ('Wilhelmstadt', '37,080\\n'),\n",
       " ('Steglitz', '70,555\\n'),\n",
       " ('Steglitz', '70,555\\n'),\n",
       " ('Lichterfelde', '78,338\\n'),\n",
       " ('Lankwitz', '40,385\\n'),\n",
       " ('Zehlendorf', '57,902\\n'),\n",
       " ('Dahlem', '14,966\\n'),\n",
       " ('Steglitz', '70,555\\n'),\n",
       " ('Lichterfelde', '78,338\\n'),\n",
       " ('Lankwitz', '40,385\\n'),\n",
       " ('Zehlendorf', '57,902\\n'),\n",
       " ('Dahlem', '14,966\\n'),\n",
       " ('Nikolassee', '15,899\\n'),\n",
       " ('Wannsee', '9,044\\n'),\n",
       " ('Schlachtensee', '10,573\\n'),\n",
       " ('Schöneberg', '116,743\\n'),\n",
       " ('Schöneberg', '116,743\\n'),\n",
       " ('Friedenau', '26,736\\n'),\n",
       " ('Tempelhof', '54,382\\n'),\n",
       " ('Mariendorf', '48,882\\n'),\n",
       " ('Marienfelde', '30,151\\n'),\n",
       " ('Lichtenrade', '49,451\\n'),\n",
       " ('Schöneberg', '116,743\\n'),\n",
       " ('Friedenau', '26,736\\n'),\n",
       " ('Tempelhof', '54,382\\n'),\n",
       " ('Mariendorf', '48,882\\n'),\n",
       " ('Marienfelde', '30,151\\n'),\n",
       " ('Lichtenrade', '49,451\\n'),\n",
       " ('Neukölln', '154,127\\n'),\n",
       " ('Neukölln', '154,127\\n'),\n",
       " ('Britz', '38,334\\n'),\n",
       " ('Buckow', '38,018\\n'),\n",
       " ('Rudow', '41,040\\n'),\n",
       " ('Gropiusstadt', '35,844\\n'),\n",
       " ('Alt-Treptow', '10,426\\n'),\n",
       " ('Alt-Treptow', '10,426\\n'),\n",
       " ('Plänterwald', '10,618\\n'),\n",
       " ('Neukölln', '154,127\\n'),\n",
       " ('Britz', '38,334\\n'),\n",
       " ('Buckow', '38,018\\n'),\n",
       " ('Rudow', '41,040\\n'),\n",
       " ('Gropiusstadt', '35,844\\n'),\n",
       " ('Alt-Treptow', '10,426\\n'),\n",
       " ('Alt-Treptow', '10,426\\n'),\n",
       " ('Plänterwald', '10,618\\n'),\n",
       " ('Baumschulenweg', '16,780\\n'),\n",
       " ('Johannisthal', '17,650\\n'),\n",
       " ('Niederschöneweide', '10,043\\n'),\n",
       " ('Altglienicke', '26,101\\n'),\n",
       " ('Adlershof', '15,112\\n'),\n",
       " ('Bohnsdorf', '10,751\\n'),\n",
       " ('Oberschöneweide', '17,094\\n'),\n",
       " ('Alt-Treptow', '10,426\\n'),\n",
       " ('Plänterwald', '10,618\\n'),\n",
       " ('Baumschulenweg', '16,780\\n'),\n",
       " ('Johannisthal', '17,650\\n'),\n",
       " ('Niederschöneweide', '10,043\\n'),\n",
       " ('Altglienicke', '26,101\\n'),\n",
       " ('Adlershof', '15,112\\n'),\n",
       " ('Bohnsdorf', '10,751\\n'),\n",
       " ('Oberschöneweide', '17,094\\n'),\n",
       " ('Köpenick', '59,201\\n'),\n",
       " ('Friedrichshagen', '17,285\\n'),\n",
       " ('Rahnsdorf', '8,891\\n'),\n",
       " ('Grünau', '5,482\\n'),\n",
       " ('Müggelheim', '6,350\\n'),\n",
       " ('Schmöckwitz', '4,117\\n'),\n",
       " ('Marzahn', '102,398\\n'),\n",
       " ('Biesdorf', '24,543\\n'),\n",
       " ('Kaulsdorf', '18,732\\n'),\n",
       " ('Mahlsdorf', '26,852\\n'),\n",
       " ('Hellersdorf', '72,602\\n'),\n",
       " ('Friedrichsfelde', '50,010\\n'),\n",
       " ('Friedrichsfelde', '50,010\\n'),\n",
       " ('Karlshorst', '21,329\\n'),\n",
       " ('Lichtenberg', '32,295\\n'),\n",
       " ('Falkenberg', '1,164\\n'),\n",
       " ('Malchow', '450\\n'),\n",
       " ('Wartenberg', '2,433\\n'),\n",
       " ('Neu-Hohenschönhausen', '53,698\\n'),\n",
       " ('Alt-Hohenschönhausen', '41,780\\n'),\n",
       " ('Fennpfuhl', '30,932\\n'),\n",
       " ('Friedrichsfelde', '50,010\\n'),\n",
       " ('Karlshorst', '21,329\\n'),\n",
       " ('Lichtenberg', '32,295\\n'),\n",
       " ('Falkenberg', '1,164\\n'),\n",
       " ('Malchow', '450\\n'),\n",
       " ('Wartenberg', '2,433\\n'),\n",
       " ('Neu-Hohenschönhausen', '53,698\\n'),\n",
       " ('Alt-Hohenschönhausen', '41,780\\n'),\n",
       " ('Fennpfuhl', '30,932\\n'),\n",
       " ('Rummelsburg', '17,567\\n'),\n",
       " ('Reinickendorf', '72,859\\n'),\n",
       " ('Reinickendorf', '72,859\\n'),\n",
       " ('Tegel', '33,417\\n'),\n",
       " ('Konradshöhe', '5,997\\n'),\n",
       " ('Heiligensee', '17,641\\n'),\n",
       " ('Reinickendorf', '72,859\\n'),\n",
       " ('Tegel', '33,417\\n'),\n",
       " ('Konradshöhe', '5,997\\n'),\n",
       " ('Heiligensee', '17,641\\n'),\n",
       " ('Frohnau', '17,025\\n'),\n",
       " ('Hermsdorf', '16,503\\n'),\n",
       " ('Waidmannslust', '10,022\\n'),\n",
       " ('Lübars', '4,915\\n'),\n",
       " ('Wittenau', '22,696\\n'),\n",
       " ('Märkisches Viertel', '35,206\\n'),\n",
       " ('Borsigwalde', '6,432\\n'),\n",
       " ('t',\n",
       "  '\\nAlt-Hohenschönhausen\\nFalkenberg\\nFennpfuhl\\nFriedrichsfelde\\nKarlshorst\\nLichtenberg\\nMalchow\\nNeu-Hohenschönhausen\\nRummelsburg\\nWartenberg\\n'),\n",
       " ('Charlottenburg',\n",
       "  '\\nAlt-Hohenschönhausen\\nFalkenberg\\nFennpfuhl\\nFriedrichsfelde\\nKarlshorst\\nLichtenberg\\nMalchow\\nNeu-Hohenschönhausen\\nRummelsburg\\nWartenberg\\n'),\n",
       " ('Friedrichshain',\n",
       "  '\\nBiesdorf\\nHellersdorf\\nKaulsdorf\\nMahlsdorf\\nMarzahn\\n'),\n",
       " ('Alt-Hohenschönhausen',\n",
       "  '\\nGesundbrunnen\\nHansaviertel\\nMitte\\nMoabit\\nTiergarten\\nWedding\\n')]"
      ]
     },
     "execution_count": 89,
     "metadata": {},
     "output_type": "execute_result"
    }
   ],
   "source": [
    "lst_of_name_pop"
   ]
  },
  {
   "cell_type": "code",
   "execution_count": 90,
   "id": "aecd3c5e",
   "metadata": {},
   "outputs": [],
   "source": [
    "unique_name_pop = set(lst_of_name_pop)"
   ]
  },
  {
   "cell_type": "code",
   "execution_count": 91,
   "id": "d9b247e2",
   "metadata": {
    "collapsed": true
   },
   "outputs": [
    {
     "data": {
      "text/plain": [
       "{('Adlershof', '15,112\\n'),\n",
       " ('Alt-Hohenschönhausen',\n",
       "  '\\nGesundbrunnen\\nHansaviertel\\nMitte\\nMoabit\\nTiergarten\\nWedding\\n'),\n",
       " ('Alt-Hohenschönhausen', '41,780\\n'),\n",
       " ('Alt-Treptow', '10,426\\n'),\n",
       " ('Altglienicke', '26,101\\n'),\n",
       " ('Baumschulenweg', '16,780\\n'),\n",
       " ('Biesdorf', '24,543\\n'),\n",
       " ('Blankenburg', '6,550\\n'),\n",
       " ('Blankenfelde', '1,917\\n'),\n",
       " ('Bohnsdorf', '10,751\\n'),\n",
       " ('Borsigwalde', '6,432\\n'),\n",
       " ('Britz', '38,334\\n'),\n",
       " ('Buch', '13,188\\n'),\n",
       " ('Buckow', '38,018\\n'),\n",
       " ('Charlottenburg',\n",
       "  '\\nAlt-Hohenschönhausen\\nFalkenberg\\nFennpfuhl\\nFriedrichsfelde\\nKarlshorst\\nLichtenberg\\nMalchow\\nNeu-Hohenschönhausen\\nRummelsburg\\nWartenberg\\n'),\n",
       " ('Charlottenburg', '118,704\\n'),\n",
       " ('Charlottenburg-Nord', '17,327\\n'),\n",
       " ('Dahlem', '14,966\\n'),\n",
       " ('Falkenberg', '1,164\\n'),\n",
       " ('Falkenhagener Feld', '34,778\\n'),\n",
       " ('Fennpfuhl', '30,932\\n'),\n",
       " ('Französisch Buchholz', '18,766\\n'),\n",
       " ('Friedenau', '26,736\\n'),\n",
       " ('Friedrichsfelde', '50,010\\n'),\n",
       " ('Friedrichshagen', '17,285\\n'),\n",
       " ('Friedrichshain',\n",
       "  '\\nBiesdorf\\nHellersdorf\\nKaulsdorf\\nMahlsdorf\\nMarzahn\\n'),\n",
       " ('Friedrichshain', '114,050\\n'),\n",
       " ('Frohnau', '17,025\\n'),\n",
       " ('Gatow', '3,908\\n'),\n",
       " ('Gesundbrunnen', '82,729\\n'),\n",
       " ('Gropiusstadt', '35,844\\n'),\n",
       " ('Grunewald', '10,014\\n'),\n",
       " ('Grünau', '5,482\\n'),\n",
       " ('Hakenfelde', '26,337\\n'),\n",
       " ('Halensee', '13,966\\n'),\n",
       " ('Hansaviertel', '5,889\\n'),\n",
       " ('Haselhorst', '13,668\\n'),\n",
       " ('Heiligensee', '17,641\\n'),\n",
       " ('Heinersdorf', '6,580\\n'),\n",
       " ('Hellersdorf', '72,602\\n'),\n",
       " ('Hermsdorf', '16,503\\n'),\n",
       " ('Johannisthal', '17,650\\n'),\n",
       " ('Karlshorst', '21,329\\n'),\n",
       " ('Karow', '18,258\\n'),\n",
       " ('Kaulsdorf', '18,732\\n'),\n",
       " ('Kladow', '13,628\\n'),\n",
       " ('Konradshöhe', '5,997\\n'),\n",
       " ('Kreuzberg', '147,227\\n'),\n",
       " ('Köpenick', '59,201\\n'),\n",
       " ('Lankwitz', '40,385\\n'),\n",
       " ('Lichtenberg', '32,295\\n'),\n",
       " ('Lichtenrade', '49,451\\n'),\n",
       " ('Lichterfelde', '78,338\\n'),\n",
       " ('Lübars', '4,915\\n'),\n",
       " ('Mahlsdorf', '26,852\\n'),\n",
       " ('Malchow', '450\\n'),\n",
       " ('Mariendorf', '48,882\\n'),\n",
       " ('Marienfelde', '30,151\\n'),\n",
       " ('Marzahn', '102,398\\n'),\n",
       " ('Mitte', '79,582\\n'),\n",
       " ('Moabit', '69,425\\n'),\n",
       " ('Märkisches Viertel', '35,206\\n'),\n",
       " ('Müggelheim', '6,350\\n'),\n",
       " ('Neu-Hohenschönhausen', '53,698\\n'),\n",
       " ('Neukölln', '154,127\\n'),\n",
       " ('Niederschöneweide', '10,043\\n'),\n",
       " ('Niederschönhausen', '26,903\\n'),\n",
       " ('Nikolassee', '15,899\\n'),\n",
       " ('Oberschöneweide', '17,094\\n'),\n",
       " ('Pankow', '55,854\\n'),\n",
       " ('Plänterwald', '10,618\\n'),\n",
       " ('Prenzlauer Berg', '142,319\\n'),\n",
       " ('Rahnsdorf', '8,891\\n'),\n",
       " ('Reinickendorf', '72,859\\n'),\n",
       " ('Rosenthal', '8,933\\n'),\n",
       " ('Rudow', '41,040\\n'),\n",
       " ('Rummelsburg', '17,567\\n'),\n",
       " ('Schlachtensee', '10,573\\n'),\n",
       " ('Schmargendorf', '19,750\\n'),\n",
       " ('Schmöckwitz', '4,117\\n'),\n",
       " ('Schöneberg', '116,743\\n'),\n",
       " ('Siemensstadt', '11,388\\n'),\n",
       " ('Spandau', '33,433\\n'),\n",
       " ('Staaken', '41,470\\n'),\n",
       " ('Stadtrandsiedlung Malchow', '1,166\\n'),\n",
       " ('Steglitz', '70,555\\n'),\n",
       " ('Tegel', '33,417\\n'),\n",
       " ('Tempelhof', '54,382\\n'),\n",
       " ('Tiergarten', '12,486\\n'),\n",
       " ('Waidmannslust', '10,022\\n'),\n",
       " ('Wannsee', '9,044\\n'),\n",
       " ('Wartenberg', '2,433\\n'),\n",
       " ('Wedding', '76,363\\n'),\n",
       " ('Weißensee', '45,485\\n'),\n",
       " ('Westend', '37,883\\n'),\n",
       " ('Wilhelmsruh', '7,216\\n'),\n",
       " ('Wilhelmstadt', '37,080\\n'),\n",
       " ('Wilmersdorf', '92,815\\n'),\n",
       " ('Wittenau', '22,696\\n'),\n",
       " ('Zehlendorf', '57,902\\n'),\n",
       " ('t',\n",
       "  '\\nAlt-Hohenschönhausen\\nFalkenberg\\nFennpfuhl\\nFriedrichsfelde\\nKarlshorst\\nLichtenberg\\nMalchow\\nNeu-Hohenschönhausen\\nRummelsburg\\nWartenberg\\n')}"
      ]
     },
     "execution_count": 91,
     "metadata": {},
     "output_type": "execute_result"
    }
   ],
   "source": [
    "unique_name_pop"
   ]
  },
  {
   "cell_type": "code",
   "execution_count": 96,
   "id": "de6197de",
   "metadata": {},
   "outputs": [],
   "source": [
    "names = []\n",
    "pops = []"
   ]
  },
  {
   "cell_type": "code",
   "execution_count": 92,
   "id": "d11453d9",
   "metadata": {},
   "outputs": [],
   "source": [
    "names_pops = list(unique_name_pop)"
   ]
  },
  {
   "cell_type": "code",
   "execution_count": 100,
   "id": "52d831bf",
   "metadata": {},
   "outputs": [],
   "source": [
    "for tup in names_pops:\n",
    "    \n",
    "    try:\n",
    "        float(tup[1].replace(\"\\n\", \"\").replace(\",\", \"\"))\n",
    "    except:\n",
    "        continue\n",
    "    else:\n",
    "        names.append(tup[0])\n",
    "        pops.append(tup[1])"
   ]
  },
  {
   "cell_type": "code",
   "execution_count": 104,
   "id": "2e92aee6",
   "metadata": {},
   "outputs": [
    {
     "name": "stdout",
     "output_type": "stream",
     "text": [
      "Neukölln 154,127\n",
      "\n"
     ]
    }
   ],
   "source": [
    "print(names[-1], pops[-1])"
   ]
  },
  {
   "cell_type": "code",
   "execution_count": 105,
   "id": "7a7ba13e",
   "metadata": {},
   "outputs": [
    {
     "data": {
      "text/plain": [
       "97"
      ]
     },
     "execution_count": 105,
     "metadata": {},
     "output_type": "execute_result"
    }
   ],
   "source": [
    "len(names)"
   ]
  },
  {
   "cell_type": "code",
   "execution_count": 108,
   "id": "b7dcee5f",
   "metadata": {},
   "outputs": [],
   "source": [
    "pops = [float(pop.replace(\"\\n\", \"\").replace(\",\", \"\")) for pop in pops]"
   ]
  },
  {
   "cell_type": "code",
   "execution_count": 110,
   "id": "a16a1ab5",
   "metadata": {},
   "outputs": [],
   "source": [
    "pop_by_locality = {\"name\": names, \"population\": pops}"
   ]
  },
  {
   "cell_type": "code",
   "execution_count": 111,
   "id": "e0f8cc14",
   "metadata": {},
   "outputs": [],
   "source": [
    "df_pops_by_locality = pd.DataFrame.from_dict(pop_by_locality)"
   ]
  },
  {
   "cell_type": "code",
   "execution_count": 112,
   "id": "c8899023",
   "metadata": {},
   "outputs": [
    {
     "data": {
      "text/html": [
       "<div>\n",
       "<style scoped>\n",
       "    .dataframe tbody tr th:only-of-type {\n",
       "        vertical-align: middle;\n",
       "    }\n",
       "\n",
       "    .dataframe tbody tr th {\n",
       "        vertical-align: top;\n",
       "    }\n",
       "\n",
       "    .dataframe thead th {\n",
       "        text-align: right;\n",
       "    }\n",
       "</style>\n",
       "<table border=\"1\" class=\"dataframe\">\n",
       "  <thead>\n",
       "    <tr style=\"text-align: right;\">\n",
       "      <th></th>\n",
       "      <th>name</th>\n",
       "      <th>population</th>\n",
       "    </tr>\n",
       "  </thead>\n",
       "  <tbody>\n",
       "    <tr>\n",
       "      <th>0</th>\n",
       "      <td>Rosenthal</td>\n",
       "      <td>8933.0</td>\n",
       "    </tr>\n",
       "    <tr>\n",
       "      <th>1</th>\n",
       "      <td>Frohnau</td>\n",
       "      <td>17025.0</td>\n",
       "    </tr>\n",
       "    <tr>\n",
       "      <th>2</th>\n",
       "      <td>Französisch Buchholz</td>\n",
       "      <td>18766.0</td>\n",
       "    </tr>\n",
       "    <tr>\n",
       "      <th>3</th>\n",
       "      <td>Neu-Hohenschönhausen</td>\n",
       "      <td>53698.0</td>\n",
       "    </tr>\n",
       "    <tr>\n",
       "      <th>4</th>\n",
       "      <td>Mariendorf</td>\n",
       "      <td>48882.0</td>\n",
       "    </tr>\n",
       "  </tbody>\n",
       "</table>\n",
       "</div>"
      ],
      "text/plain": [
       "                   name  population\n",
       "0             Rosenthal      8933.0\n",
       "1               Frohnau     17025.0\n",
       "2  Französisch Buchholz     18766.0\n",
       "3  Neu-Hohenschönhausen     53698.0\n",
       "4            Mariendorf     48882.0"
      ]
     },
     "execution_count": 112,
     "metadata": {},
     "output_type": "execute_result"
    }
   ],
   "source": [
    "df_pops_by_locality.head()"
   ]
  },
  {
   "cell_type": "code",
   "execution_count": 200,
   "id": "4bf42483",
   "metadata": {},
   "outputs": [],
   "source": [
    "### df from localities and postcodes\n",
    "df_zip_local = pd.DataFrame.from_dict({\"locality\": localities, \"zip_code\": plz})"
   ]
  },
  {
   "cell_type": "code",
   "execution_count": 124,
   "id": "fed3a9f0",
   "metadata": {},
   "outputs": [
    {
     "data": {
      "text/html": [
       "<div>\n",
       "<style scoped>\n",
       "    .dataframe tbody tr th:only-of-type {\n",
       "        vertical-align: middle;\n",
       "    }\n",
       "\n",
       "    .dataframe tbody tr th {\n",
       "        vertical-align: top;\n",
       "    }\n",
       "\n",
       "    .dataframe thead th {\n",
       "        text-align: right;\n",
       "    }\n",
       "</style>\n",
       "<table border=\"1\" class=\"dataframe\">\n",
       "  <thead>\n",
       "    <tr style=\"text-align: right;\">\n",
       "      <th></th>\n",
       "      <th>locality</th>\n",
       "      <th>zip_code</th>\n",
       "    </tr>\n",
       "  </thead>\n",
       "  <tbody>\n",
       "    <tr>\n",
       "      <th>0</th>\n",
       "      <td>Adlershof</td>\n",
       "      <td>12487</td>\n",
       "    </tr>\n",
       "    <tr>\n",
       "      <th>1</th>\n",
       "      <td>Adlershof</td>\n",
       "      <td>12489</td>\n",
       "    </tr>\n",
       "    <tr>\n",
       "      <th>2</th>\n",
       "      <td>Altglienicke</td>\n",
       "      <td>12524</td>\n",
       "    </tr>\n",
       "    <tr>\n",
       "      <th>3</th>\n",
       "      <td>Alt-Treptow</td>\n",
       "      <td>12435</td>\n",
       "    </tr>\n",
       "    <tr>\n",
       "      <th>4</th>\n",
       "      <td>Baumschulenweg</td>\n",
       "      <td>12437</td>\n",
       "    </tr>\n",
       "  </tbody>\n",
       "</table>\n",
       "</div>"
      ],
      "text/plain": [
       "         locality zip_code\n",
       "0       Adlershof    12487\n",
       "1       Adlershof    12489\n",
       "2    Altglienicke    12524\n",
       "3     Alt-Treptow    12435\n",
       "4  Baumschulenweg    12437"
      ]
     },
     "execution_count": 124,
     "metadata": {},
     "output_type": "execute_result"
    }
   ],
   "source": [
    "df_zip_local.head()"
   ]
  },
  {
   "cell_type": "code",
   "execution_count": 125,
   "id": "e2b50c8a",
   "metadata": {},
   "outputs": [
    {
     "name": "stdout",
     "output_type": "stream",
     "text": [
      "<class 'pandas.core.frame.DataFrame'>\n",
      "RangeIndex: 20 entries, 0 to 19\n",
      "Data columns (total 3 columns):\n",
      " #   Column    Non-Null Count  Dtype  \n",
      "---  ------    --------------  -----  \n",
      " 0   name      20 non-null     object \n",
      " 1   rating    20 non-null     float64\n",
      " 2   zip_code  20 non-null     object \n",
      "dtypes: float64(1), object(2)\n",
      "memory usage: 608.0+ bytes\n"
     ]
    }
   ],
   "source": [
    "df_rest.info()"
   ]
  },
  {
   "cell_type": "code",
   "execution_count": 225,
   "id": "a8a2eeb4",
   "metadata": {},
   "outputs": [],
   "source": [
    "df_restaurants = df_rest.merge(df_zip_local, on= \"zip_code\", how= \"inner\")"
   ]
  },
  {
   "cell_type": "code",
   "execution_count": 209,
   "id": "cd417c9c",
   "metadata": {},
   "outputs": [
    {
     "name": "stdout",
     "output_type": "stream",
     "text": [
      "<class 'pandas.core.frame.DataFrame'>\n",
      "Int64Index: 1495 entries, 0 to 1494\n",
      "Data columns (total 4 columns):\n",
      " #   Column    Non-Null Count  Dtype  \n",
      "---  ------    --------------  -----  \n",
      " 0   name      1495 non-null   object \n",
      " 1   rating    1495 non-null   float64\n",
      " 2   zip_code  1495 non-null   object \n",
      " 3   locality  1495 non-null   object \n",
      "dtypes: float64(1), object(3)\n",
      "memory usage: 58.4+ KB\n"
     ]
    }
   ],
   "source": [
    "df_restaurants.info()"
   ]
  },
  {
   "cell_type": "code",
   "execution_count": 203,
   "id": "70f39dcf",
   "metadata": {},
   "outputs": [
    {
     "data": {
      "text/html": [
       "<div>\n",
       "<style scoped>\n",
       "    .dataframe tbody tr th:only-of-type {\n",
       "        vertical-align: middle;\n",
       "    }\n",
       "\n",
       "    .dataframe tbody tr th {\n",
       "        vertical-align: top;\n",
       "    }\n",
       "\n",
       "    .dataframe thead th {\n",
       "        text-align: right;\n",
       "    }\n",
       "</style>\n",
       "<table border=\"1\" class=\"dataframe\">\n",
       "  <thead>\n",
       "    <tr style=\"text-align: right;\">\n",
       "      <th></th>\n",
       "      <th>name</th>\n",
       "      <th>rating</th>\n",
       "      <th>zip_code</th>\n",
       "      <th>locality</th>\n",
       "    </tr>\n",
       "  </thead>\n",
       "  <tbody>\n",
       "    <tr>\n",
       "      <th>1490</th>\n",
       "      <td>ristorante-al-castagno-berlin</td>\n",
       "      <td>4.0</td>\n",
       "      <td>13505</td>\n",
       "      <td>Tegel</td>\n",
       "    </tr>\n",
       "    <tr>\n",
       "      <th>1491</th>\n",
       "      <td>ristoranto-capitano-berlin-2</td>\n",
       "      <td>5.0</td>\n",
       "      <td>13435</td>\n",
       "      <td>Wittenau</td>\n",
       "    </tr>\n",
       "    <tr>\n",
       "      <th>1492</th>\n",
       "      <td>ristorante-siena-berlin</td>\n",
       "      <td>3.5</td>\n",
       "      <td>13158</td>\n",
       "      <td>Französisch Buchholz</td>\n",
       "    </tr>\n",
       "    <tr>\n",
       "      <th>1493</th>\n",
       "      <td>ristorante-siena-berlin</td>\n",
       "      <td>3.5</td>\n",
       "      <td>13158</td>\n",
       "      <td>Niederschönhausen</td>\n",
       "    </tr>\n",
       "    <tr>\n",
       "      <th>1494</th>\n",
       "      <td>ristorante-la-merita-berlin-2</td>\n",
       "      <td>3.0</td>\n",
       "      <td>12355</td>\n",
       "      <td>Rudow</td>\n",
       "    </tr>\n",
       "  </tbody>\n",
       "</table>\n",
       "</div>"
      ],
      "text/plain": [
       "                               name  rating zip_code              locality\n",
       "1490  ristorante-al-castagno-berlin     4.0    13505                 Tegel\n",
       "1491   ristoranto-capitano-berlin-2     5.0    13435              Wittenau\n",
       "1492        ristorante-siena-berlin     3.5    13158  Französisch Buchholz\n",
       "1493        ristorante-siena-berlin     3.5    13158     Niederschönhausen\n",
       "1494  ristorante-la-merita-berlin-2     3.0    12355                 Rudow"
      ]
     },
     "execution_count": 203,
     "metadata": {},
     "output_type": "execute_result"
    }
   ],
   "source": [
    "df_restaurants.tail()"
   ]
  },
  {
   "cell_type": "code",
   "execution_count": 191,
   "id": "6b427799",
   "metadata": {},
   "outputs": [
    {
     "name": "stdout",
     "output_type": "stream",
     "text": [
      "<class 'pandas.core.frame.DataFrame'>\n",
      "RangeIndex: 1000 entries, 0 to 999\n",
      "Data columns (total 3 columns):\n",
      " #   Column    Non-Null Count  Dtype  \n",
      "---  ------    --------------  -----  \n",
      " 0   name      1000 non-null   object \n",
      " 1   rating    1000 non-null   float64\n",
      " 2   zip_code  1000 non-null   object \n",
      "dtypes: float64(1), object(2)\n",
      "memory usage: 23.6+ KB\n"
     ]
    }
   ],
   "source": [
    "df_rest.info()"
   ]
  },
  {
   "cell_type": "code",
   "execution_count": 210,
   "id": "4e26ef32",
   "metadata": {},
   "outputs": [],
   "source": [
    "import numpy as np"
   ]
  },
  {
   "cell_type": "code",
   "execution_count": 211,
   "id": "bbc7cb54",
   "metadata": {},
   "outputs": [
    {
     "data": {
      "text/plain": [
       "array(['Berlin-Flughafen Schönefeld', 'Berlin-Karow', 'Berlin-Staaken',\n",
       "       'Buchholz', 'Hessenwinkel', 'Hohenschönhausen', 'Karolinenhof',\n",
       "       'Margaretenhöhe', 'Pichelsdorf', 'Wilhelmshagen'], dtype=object)"
      ]
     },
     "execution_count": 211,
     "metadata": {},
     "output_type": "execute_result"
    }
   ],
   "source": [
    "np.setdiff1d(df_zip_local.locality, df_pops_by_locality.name)"
   ]
  },
  {
   "cell_type": "code",
   "execution_count": 212,
   "id": "c56788b7",
   "metadata": {},
   "outputs": [
    {
     "data": {
      "text/plain": [
       "array(['Alt-Hohenschönhausen', 'Charlottenburg-Nord',\n",
       "       'Falkenhagener Feld', 'Fennpfuhl', 'Friedrichsfelde',\n",
       "       'Gesundbrunnen', 'Gropiusstadt', 'Halensee', 'Hansaviertel',\n",
       "       'Haselhorst', 'Karow', 'Kladow', 'Moabit', 'Märkisches Viertel',\n",
       "       'Neu-Hohenschönhausen', 'Schlachtensee', 'Staaken',\n",
       "       'Stadtrandsiedlung Malchow', 'Wartenberg', 'Westend',\n",
       "       'Wilhelmsruh', 'Wilhelmstadt'], dtype=object)"
      ]
     },
     "execution_count": 212,
     "metadata": {},
     "output_type": "execute_result"
    }
   ],
   "source": [
    "np.setdiff1d(df_pops_by_locality.name, df_zip_local.locality)"
   ]
  },
  {
   "cell_type": "code",
   "execution_count": 213,
   "id": "37813fc7",
   "metadata": {},
   "outputs": [
    {
     "data": {
      "text/plain": [
       "97"
      ]
     },
     "execution_count": 213,
     "metadata": {},
     "output_type": "execute_result"
    }
   ],
   "source": [
    "len(df_pops_by_locality.name)"
   ]
  },
  {
   "cell_type": "code",
   "execution_count": 214,
   "id": "5183608d",
   "metadata": {},
   "outputs": [
    {
     "data": {
      "text/plain": [
       "313"
      ]
     },
     "execution_count": 214,
     "metadata": {},
     "output_type": "execute_result"
    }
   ],
   "source": [
    "len(df_zip_local.locality)"
   ]
  },
  {
   "cell_type": "code",
   "execution_count": 216,
   "id": "bfc8f0d1",
   "metadata": {},
   "outputs": [
    {
     "name": "stderr",
     "output_type": "stream",
     "text": [
      "/tmp/ipykernel_24421/2101200091.py:1: UserWarning: Pandas doesn't allow columns to be created via a new attribute name - see https://pandas.pydata.org/pandas-docs/stable/indexing.html#attribute-access\n",
      "  df_pops_by_locality.locality = df_pops_by_locality.name\n"
     ]
    }
   ],
   "source": [
    "df_pops_by_locality.locality = df_pops_by_locality.name"
   ]
  },
  {
   "cell_type": "code",
   "execution_count": 217,
   "id": "200c0f7e",
   "metadata": {},
   "outputs": [],
   "source": [
    "df_pops_by_locality[\"locality\"] = df_pops_by_locality.name"
   ]
  },
  {
   "cell_type": "code",
   "execution_count": 220,
   "id": "6e999a8f",
   "metadata": {},
   "outputs": [],
   "source": [
    "df_pops_by_locality = df_pops_by_locality.drop(columns=[\"name\"])"
   ]
  },
  {
   "cell_type": "code",
   "execution_count": 221,
   "id": "4d7629bd",
   "metadata": {},
   "outputs": [],
   "source": [
    "df_restaurants = df_restaurants.merge(df_pops_by_locality, how= \"inner\", on=\"locality\")"
   ]
  },
  {
   "cell_type": "code",
   "execution_count": 222,
   "id": "4674f87c",
   "metadata": {},
   "outputs": [
    {
     "name": "stdout",
     "output_type": "stream",
     "text": [
      "<class 'pandas.core.frame.DataFrame'>\n",
      "Int64Index: 1467 entries, 0 to 1466\n",
      "Data columns (total 5 columns):\n",
      " #   Column      Non-Null Count  Dtype  \n",
      "---  ------      --------------  -----  \n",
      " 0   name        1467 non-null   object \n",
      " 1   rating      1467 non-null   float64\n",
      " 2   zip_code    1467 non-null   object \n",
      " 3   locality    1467 non-null   object \n",
      " 4   population  1467 non-null   float64\n",
      "dtypes: float64(2), object(3)\n",
      "memory usage: 68.8+ KB\n"
     ]
    }
   ],
   "source": [
    "df_restaurants.info()"
   ]
  },
  {
   "cell_type": "code",
   "execution_count": 226,
   "id": "3a165629",
   "metadata": {},
   "outputs": [],
   "source": [
    "top_rated = df_restaurants.loc[df_restaurants.rating >= 4, ]"
   ]
  },
  {
   "cell_type": "code",
   "execution_count": 229,
   "id": "8634242b",
   "metadata": {},
   "outputs": [],
   "source": [
    "agg_rest = top_rated.groupby(by=\"locality\").count().reset_index()"
   ]
  },
  {
   "cell_type": "code",
   "execution_count": 231,
   "id": "bea9ef47",
   "metadata": {},
   "outputs": [],
   "source": [
    "per_capita = agg_rest.merge(df_pops_by_locality, how=\"inner\", on = \"locality\")"
   ]
  },
  {
   "cell_type": "code",
   "execution_count": 241,
   "id": "1b1bfbed",
   "metadata": {},
   "outputs": [],
   "source": [
    "per_capita[\"per_cap\"] = per_capita.population/per_capita.name"
   ]
  },
  {
   "cell_type": "code",
   "execution_count": 245,
   "id": "005b85dd",
   "metadata": {},
   "outputs": [],
   "source": [
    "per_capita = per_capita.sort_values(by=\"per_cap\", ascending=False)"
   ]
  },
  {
   "cell_type": "code",
   "execution_count": 246,
   "id": "af78942d",
   "metadata": {},
   "outputs": [
    {
     "data": {
      "text/html": [
       "<div>\n",
       "<style scoped>\n",
       "    .dataframe tbody tr th:only-of-type {\n",
       "        vertical-align: middle;\n",
       "    }\n",
       "\n",
       "    .dataframe tbody tr th {\n",
       "        vertical-align: top;\n",
       "    }\n",
       "\n",
       "    .dataframe thead th {\n",
       "        text-align: right;\n",
       "    }\n",
       "</style>\n",
       "<table border=\"1\" class=\"dataframe\">\n",
       "  <thead>\n",
       "    <tr style=\"text-align: right;\">\n",
       "      <th></th>\n",
       "      <th>locality</th>\n",
       "      <th>name</th>\n",
       "      <th>rating</th>\n",
       "      <th>zip_code</th>\n",
       "      <th>population</th>\n",
       "      <th>per_cap</th>\n",
       "    </tr>\n",
       "  </thead>\n",
       "  <tbody>\n",
       "    <tr>\n",
       "      <th>39</th>\n",
       "      <td>Marzahn</td>\n",
       "      <td>1</td>\n",
       "      <td>1</td>\n",
       "      <td>1</td>\n",
       "      <td>102398.0</td>\n",
       "      <td>102398.000000</td>\n",
       "    </tr>\n",
       "    <tr>\n",
       "      <th>22</th>\n",
       "      <td>Hellersdorf</td>\n",
       "      <td>1</td>\n",
       "      <td>1</td>\n",
       "      <td>1</td>\n",
       "      <td>72602.0</td>\n",
       "      <td>72602.000000</td>\n",
       "    </tr>\n",
       "    <tr>\n",
       "      <th>2</th>\n",
       "      <td>Altglienicke</td>\n",
       "      <td>1</td>\n",
       "      <td>1</td>\n",
       "      <td>1</td>\n",
       "      <td>26101.0</td>\n",
       "      <td>26101.000000</td>\n",
       "    </tr>\n",
       "    <tr>\n",
       "      <th>4</th>\n",
       "      <td>Biesdorf</td>\n",
       "      <td>1</td>\n",
       "      <td>1</td>\n",
       "      <td>1</td>\n",
       "      <td>24543.0</td>\n",
       "      <td>24543.000000</td>\n",
       "    </tr>\n",
       "    <tr>\n",
       "      <th>29</th>\n",
       "      <td>Köpenick</td>\n",
       "      <td>3</td>\n",
       "      <td>3</td>\n",
       "      <td>3</td>\n",
       "      <td>59201.0</td>\n",
       "      <td>19733.666667</td>\n",
       "    </tr>\n",
       "  </tbody>\n",
       "</table>\n",
       "</div>"
      ],
      "text/plain": [
       "        locality  name  rating  zip_code  population        per_cap\n",
       "39       Marzahn     1       1         1    102398.0  102398.000000\n",
       "22   Hellersdorf     1       1         1     72602.0   72602.000000\n",
       "2   Altglienicke     1       1         1     26101.0   26101.000000\n",
       "4       Biesdorf     1       1         1     24543.0   24543.000000\n",
       "29      Köpenick     3       3         3     59201.0   19733.666667"
      ]
     },
     "execution_count": 246,
     "metadata": {},
     "output_type": "execute_result"
    }
   ],
   "source": [
    "per_capita.head()"
   ]
  },
  {
   "cell_type": "code",
   "execution_count": 250,
   "id": "1e7bf48e",
   "metadata": {},
   "outputs": [
    {
     "data": {
      "text/html": [
       "<div>\n",
       "<style scoped>\n",
       "    .dataframe tbody tr th:only-of-type {\n",
       "        vertical-align: middle;\n",
       "    }\n",
       "\n",
       "    .dataframe tbody tr th {\n",
       "        vertical-align: top;\n",
       "    }\n",
       "\n",
       "    .dataframe thead th {\n",
       "        text-align: right;\n",
       "    }\n",
       "</style>\n",
       "<table border=\"1\" class=\"dataframe\">\n",
       "  <thead>\n",
       "    <tr style=\"text-align: right;\">\n",
       "      <th></th>\n",
       "      <th>name</th>\n",
       "      <th>rating</th>\n",
       "      <th>zip_code</th>\n",
       "      <th>locality</th>\n",
       "    </tr>\n",
       "  </thead>\n",
       "  <tbody>\n",
       "    <tr>\n",
       "      <th>1340</th>\n",
       "      <td>antica-pizzicheria-berlin</td>\n",
       "      <td>3.5</td>\n",
       "      <td>12681</td>\n",
       "      <td>Marzahn</td>\n",
       "    </tr>\n",
       "    <tr>\n",
       "      <th>1418</th>\n",
       "      <td>i-fratelli-berlin</td>\n",
       "      <td>4.0</td>\n",
       "      <td>12685</td>\n",
       "      <td>Marzahn</td>\n",
       "    </tr>\n",
       "    <tr>\n",
       "      <th>1487</th>\n",
       "      <td>marzano-berlin</td>\n",
       "      <td>3.5</td>\n",
       "      <td>12687</td>\n",
       "      <td>Marzahn</td>\n",
       "    </tr>\n",
       "  </tbody>\n",
       "</table>\n",
       "</div>"
      ],
      "text/plain": [
       "                           name  rating zip_code locality\n",
       "1340  antica-pizzicheria-berlin     3.5    12681  Marzahn\n",
       "1418          i-fratelli-berlin     4.0    12685  Marzahn\n",
       "1487             marzano-berlin     3.5    12687  Marzahn"
      ]
     },
     "execution_count": 250,
     "metadata": {},
     "output_type": "execute_result"
    }
   ],
   "source": [
    "df_restaurants.loc[df_restaurants.zip_code.isin([\"12679\", \"12681\", \"12685\", \"12687\", \"12689\"]), ]"
   ]
  },
  {
   "cell_type": "code",
   "execution_count": 249,
   "id": "5dabf1fe",
   "metadata": {},
   "outputs": [
    {
     "name": "stdout",
     "output_type": "stream",
     "text": [
      "<class 'pandas.core.frame.DataFrame'>\n",
      "Int64Index: 1495 entries, 0 to 1494\n",
      "Data columns (total 4 columns):\n",
      " #   Column    Non-Null Count  Dtype  \n",
      "---  ------    --------------  -----  \n",
      " 0   name      1495 non-null   object \n",
      " 1   rating    1495 non-null   float64\n",
      " 2   zip_code  1495 non-null   object \n",
      " 3   locality  1495 non-null   object \n",
      "dtypes: float64(1), object(3)\n",
      "memory usage: 58.4+ KB\n"
     ]
    }
   ],
   "source": [
    "df_restaurants.info()"
   ]
  },
  {
   "cell_type": "code",
   "execution_count": null,
   "id": "2c1f9c38",
   "metadata": {},
   "outputs": [],
   "source": []
  }
 ],
 "metadata": {
  "kernelspec": {
   "display_name": "Python 3 (ipykernel)",
   "language": "python",
   "name": "python3"
  },
  "language_info": {
   "codemirror_mode": {
    "name": "ipython",
    "version": 3
   },
   "file_extension": ".py",
   "mimetype": "text/x-python",
   "name": "python",
   "nbconvert_exporter": "python",
   "pygments_lexer": "ipython3",
   "version": "3.10.6"
  },
  "toc": {
   "base_numbering": 1,
   "nav_menu": {},
   "number_sections": true,
   "sideBar": true,
   "skip_h1_title": false,
   "title_cell": "Table of Contents",
   "title_sidebar": "Contents",
   "toc_cell": false,
   "toc_position": {},
   "toc_section_display": true,
   "toc_window_display": false
  }
 },
 "nbformat": 4,
 "nbformat_minor": 5
}
