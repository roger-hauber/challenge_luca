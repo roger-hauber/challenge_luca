{
 "cells": [
  {
   "cell_type": "code",
   "execution_count": 35,
   "id": "c7e96099",
   "metadata": {},
   "outputs": [],
   "source": [
    "import sqlite3\n",
    "import pandas as pd\n",
    "import seaborn as sns\n",
    "from ipywidgets import interact, interactive, fixed, interact_manual\n",
    "import ipywidgets as widgets"
   ]
  },
  {
   "cell_type": "code",
   "execution_count": 2,
   "id": "f5cfeac5",
   "metadata": {},
   "outputs": [],
   "source": [
    "conn = sqlite3.connect(\"data/challenge_db.db\")"
   ]
  },
  {
   "cell_type": "code",
   "execution_count": 23,
   "id": "73993cda",
   "metadata": {},
   "outputs": [],
   "source": [
    "sales_by_hour = pd.read_sql(\"\"\"\n",
    "SELECT AVG(totalAmount) AS average, \n",
    "SUM(totalAmount) AS total, \n",
    "city, \n",
    "strftime(\"%H\", paymentCreatedAt) AS hour\n",
    "FROM payments JOIN locations ON payments.locationId=locations.uuid\n",
    "WHERE NOT payments.status = \"ERR\"\n",
    "GROUP BY city, hour\n",
    "\"\"\", con = conn)"
   ]
  },
  {
   "cell_type": "code",
   "execution_count": 37,
   "id": "c6ca7da5",
   "metadata": {},
   "outputs": [],
   "source": [
    "def by_hour(city):\n",
    "    sns.barplot(y = sales_by_hour.loc[sales_by_hour.city == city, \"total\"], \n",
    "                x = sales_by_hour.loc[sales_by_hour.city == city, \"hour\"])\n",
    "    "
   ]
  },
  {
   "cell_type": "code",
   "execution_count": 19,
   "id": "f6c6630f",
   "metadata": {},
   "outputs": [],
   "source": [
    "# replacement dict\n",
    "repl_dict = {0: \"0-3h\", 1: \"0-3h\", 2: \"0-3h\", 3: \"3-6h\", 4: \"3-6h\", 5: \"3-6h\",\n",
    "            6: \"6-9h\", 7: \"6-9h\", 8: \"6-9h\", 9: \"9-12h\", 10: \"9-12h\", 11: \"9-12h\",\n",
    "            12: \"12-15h\", 13: \"12-15h\", 14: \"12-15h\", 15: \"15-18h\", 16: \"15-18h\", 17: \"15-18h\", \n",
    "            18: \"18-21h\", 19: \"18-21h\", 20: \"18-21h\", 21: \"21-24h\", 22: \"21-24h\", 23: \"21-24h\"}"
   ]
  },
  {
   "cell_type": "code",
   "execution_count": 38,
   "id": "8b3f7aa8",
   "metadata": {},
   "outputs": [
    {
     "data": {
      "application/vnd.jupyter.widget-view+json": {
       "model_id": "4e7d36a93b08434baab204ebf2c8e40d",
       "version_major": 2,
       "version_minor": 0
      },
      "text/plain": [
       "interactive(children=(Dropdown(description='city', options=('Berlin', 'Bielefeld', 'Burgwedel', 'Großbottwar',…"
      ]
     },
     "metadata": {},
     "output_type": "display_data"
    },
    {
     "data": {
      "text/plain": [
       "<function __main__.by_hour(city)>"
      ]
     },
     "execution_count": 38,
     "metadata": {},
     "output_type": "execute_result"
    }
   ],
   "source": [
    "interact(by_hour, city= sales_by_hour.city.unique())"
   ]
  },
  {
   "cell_type": "code",
   "execution_count": null,
   "id": "60f05fa4",
   "metadata": {},
   "outputs": [],
   "source": []
  }
 ],
 "metadata": {
  "kernelspec": {
   "display_name": "Python 3 (ipykernel)",
   "language": "python",
   "name": "python3"
  },
  "language_info": {
   "codemirror_mode": {
    "name": "ipython",
    "version": 3
   },
   "file_extension": ".py",
   "mimetype": "text/x-python",
   "name": "python",
   "nbconvert_exporter": "python",
   "pygments_lexer": "ipython3",
   "version": "3.10.6"
  },
  "toc": {
   "base_numbering": 1,
   "nav_menu": {},
   "number_sections": true,
   "sideBar": true,
   "skip_h1_title": false,
   "title_cell": "Table of Contents",
   "title_sidebar": "Contents",
   "toc_cell": false,
   "toc_position": {},
   "toc_section_display": true,
   "toc_window_display": false
  }
 },
 "nbformat": 4,
 "nbformat_minor": 5
}
