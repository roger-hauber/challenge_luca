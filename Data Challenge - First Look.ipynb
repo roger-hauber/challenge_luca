{
 "cells": [
  {
   "cell_type": "markdown",
   "id": "a0c802f2",
   "metadata": {},
   "source": [
    "# Look at the data"
   ]
  },
  {
   "cell_type": "code",
   "execution_count": 1,
   "id": "73032cd4",
   "metadata": {},
   "outputs": [],
   "source": [
    "import pandas as pd\n",
    "import numpy as np"
   ]
  },
  {
   "cell_type": "code",
   "execution_count": 2,
   "id": "9bce9255",
   "metadata": {},
   "outputs": [],
   "source": [
    "#read payments and locations csvs\n",
    "payments = pd.read_csv(\"data/payments.csv\")\n",
    "locations = pd.read_csv(\"data/locations.csv\")"
   ]
  },
  {
   "cell_type": "code",
   "execution_count": 4,
   "id": "f8c062f0",
   "metadata": {},
   "outputs": [
    {
     "data": {
      "text/html": [
       "<div>\n",
       "<style scoped>\n",
       "    .dataframe tbody tr th:only-of-type {\n",
       "        vertical-align: middle;\n",
       "    }\n",
       "\n",
       "    .dataframe tbody tr th {\n",
       "        vertical-align: top;\n",
       "    }\n",
       "\n",
       "    .dataframe thead th {\n",
       "        text-align: right;\n",
       "    }\n",
       "</style>\n",
       "<table border=\"1\" class=\"dataframe\">\n",
       "  <thead>\n",
       "    <tr style=\"text-align: right;\">\n",
       "      <th></th>\n",
       "      <th>Unnamed: 0</th>\n",
       "      <th>uuid</th>\n",
       "      <th>locationId</th>\n",
       "      <th>paymentCreatedAt</th>\n",
       "      <th>totalAmount</th>\n",
       "      <th>status</th>\n",
       "    </tr>\n",
       "  </thead>\n",
       "  <tbody>\n",
       "    <tr>\n",
       "      <th>0</th>\n",
       "      <td>0</td>\n",
       "      <td>daade908-54ae-51be-b444-6da23cc34a70</td>\n",
       "      <td>054e08f5-cf0e-52ef-ac37-c09e74e4842e</td>\n",
       "      <td>2022-07-05 06:21:18.000000 +00:00</td>\n",
       "      <td>1.10</td>\n",
       "      <td>CLO</td>\n",
       "    </tr>\n",
       "    <tr>\n",
       "      <th>1</th>\n",
       "      <td>1</td>\n",
       "      <td>e2d78287-9073-51c4-8025-e6867528d5b6</td>\n",
       "      <td>4ca68519-7eb9-5af1-a92a-6a791f07a39a</td>\n",
       "      <td>2022-06-05 20:30:18.000000 +00:00</td>\n",
       "      <td>28.08</td>\n",
       "      <td>CLO</td>\n",
       "    </tr>\n",
       "    <tr>\n",
       "      <th>2</th>\n",
       "      <td>2</td>\n",
       "      <td>2b10ef43-bad0-5048-b583-c3ffb85766d5</td>\n",
       "      <td>7ebce01d-06de-5693-89fe-c68535099aa6</td>\n",
       "      <td>2022-06-08 11:10:18.000000 +00:00</td>\n",
       "      <td>131.76</td>\n",
       "      <td>CLO</td>\n",
       "    </tr>\n",
       "    <tr>\n",
       "      <th>3</th>\n",
       "      <td>3</td>\n",
       "      <td>115c4b9f-48ce-5420-bb26-9ccab69b9cb6</td>\n",
       "      <td>e347104e-b37f-5bfe-abae-ba5f1b1a9cf5</td>\n",
       "      <td>2022-06-08 21:20:48.000000 +00:00</td>\n",
       "      <td>76.80</td>\n",
       "      <td>CLO</td>\n",
       "    </tr>\n",
       "    <tr>\n",
       "      <th>4</th>\n",
       "      <td>4</td>\n",
       "      <td>6c36b04c-405f-52e5-bcc7-98f9f9d59b30</td>\n",
       "      <td>764f8b86-f7d6-566a-9915-4ec836e8f863</td>\n",
       "      <td>2022-06-10 09:11:55.000000 +00:00</td>\n",
       "      <td>0.00</td>\n",
       "      <td>ERR</td>\n",
       "    </tr>\n",
       "  </tbody>\n",
       "</table>\n",
       "</div>"
      ],
      "text/plain": [
       "   Unnamed: 0                                  uuid  \\\n",
       "0           0  daade908-54ae-51be-b444-6da23cc34a70   \n",
       "1           1  e2d78287-9073-51c4-8025-e6867528d5b6   \n",
       "2           2  2b10ef43-bad0-5048-b583-c3ffb85766d5   \n",
       "3           3  115c4b9f-48ce-5420-bb26-9ccab69b9cb6   \n",
       "4           4  6c36b04c-405f-52e5-bcc7-98f9f9d59b30   \n",
       "\n",
       "                             locationId                   paymentCreatedAt  \\\n",
       "0  054e08f5-cf0e-52ef-ac37-c09e74e4842e  2022-07-05 06:21:18.000000 +00:00   \n",
       "1  4ca68519-7eb9-5af1-a92a-6a791f07a39a  2022-06-05 20:30:18.000000 +00:00   \n",
       "2  7ebce01d-06de-5693-89fe-c68535099aa6  2022-06-08 11:10:18.000000 +00:00   \n",
       "3  e347104e-b37f-5bfe-abae-ba5f1b1a9cf5  2022-06-08 21:20:48.000000 +00:00   \n",
       "4  764f8b86-f7d6-566a-9915-4ec836e8f863  2022-06-10 09:11:55.000000 +00:00   \n",
       "\n",
       "   totalAmount status  \n",
       "0         1.10    CLO  \n",
       "1        28.08    CLO  \n",
       "2       131.76    CLO  \n",
       "3        76.80    CLO  \n",
       "4         0.00    ERR  "
      ]
     },
     "execution_count": 4,
     "metadata": {},
     "output_type": "execute_result"
    }
   ],
   "source": [
    "payments.head()"
   ]
  },
  {
   "cell_type": "code",
   "execution_count": 3,
   "id": "63944a2d",
   "metadata": {},
   "outputs": [
    {
     "name": "stdout",
     "output_type": "stream",
     "text": [
      "<class 'pandas.core.frame.DataFrame'>\n",
      "RangeIndex: 383 entries, 0 to 382\n",
      "Data columns (total 6 columns):\n",
      " #   Column            Non-Null Count  Dtype  \n",
      "---  ------            --------------  -----  \n",
      " 0   Unnamed: 0        383 non-null    int64  \n",
      " 1   uuid              383 non-null    object \n",
      " 2   locationId        383 non-null    object \n",
      " 3   paymentCreatedAt  383 non-null    object \n",
      " 4   totalAmount       383 non-null    float64\n",
      " 5   status            383 non-null    object \n",
      "dtypes: float64(1), int64(1), object(4)\n",
      "memory usage: 18.1+ KB\n"
     ]
    }
   ],
   "source": [
    "payments.info()"
   ]
  },
  {
   "cell_type": "code",
   "execution_count": 17,
   "id": "a7f08a56",
   "metadata": {},
   "outputs": [],
   "source": [
    "payments[\"payment_date\"] = pd.to_datetime(payments[\"paymentCreatedAt\"])"
   ]
  },
  {
   "cell_type": "code",
   "execution_count": 22,
   "id": "73b8ab5b",
   "metadata": {},
   "outputs": [
    {
     "data": {
      "text/plain": [
       "0       6\n",
       "1      20\n",
       "2      11\n",
       "3      21\n",
       "4       9\n",
       "       ..\n",
       "378    11\n",
       "379    21\n",
       "380    12\n",
       "381     9\n",
       "382    19\n",
       "Name: payment_date, Length: 383, dtype: int64"
      ]
     },
     "execution_count": 22,
     "metadata": {},
     "output_type": "execute_result"
    }
   ],
   "source": [
    "payments.payment_date.dt.hour"
   ]
  },
  {
   "cell_type": "code",
   "execution_count": 10,
   "id": "73e8007a",
   "metadata": {},
   "outputs": [
    {
     "data": {
      "text/plain": [
       "array(['CLO', 'ERR'], dtype=object)"
      ]
     },
     "execution_count": 10,
     "metadata": {},
     "output_type": "execute_result"
    }
   ],
   "source": [
    "payments.status.unique()"
   ]
  },
  {
   "cell_type": "code",
   "execution_count": 11,
   "id": "99f88dac",
   "metadata": {},
   "outputs": [
    {
     "data": {
      "text/html": [
       "<div>\n",
       "<style scoped>\n",
       "    .dataframe tbody tr th:only-of-type {\n",
       "        vertical-align: middle;\n",
       "    }\n",
       "\n",
       "    .dataframe tbody tr th {\n",
       "        vertical-align: top;\n",
       "    }\n",
       "\n",
       "    .dataframe thead th {\n",
       "        text-align: right;\n",
       "    }\n",
       "</style>\n",
       "<table border=\"1\" class=\"dataframe\">\n",
       "  <thead>\n",
       "    <tr style=\"text-align: right;\">\n",
       "      <th></th>\n",
       "      <th>totalAmount</th>\n",
       "      <th>status</th>\n",
       "    </tr>\n",
       "  </thead>\n",
       "  <tbody>\n",
       "    <tr>\n",
       "      <th>4</th>\n",
       "      <td>0.0</td>\n",
       "      <td>ERR</td>\n",
       "    </tr>\n",
       "    <tr>\n",
       "      <th>20</th>\n",
       "      <td>0.0</td>\n",
       "      <td>ERR</td>\n",
       "    </tr>\n",
       "    <tr>\n",
       "      <th>26</th>\n",
       "      <td>0.0</td>\n",
       "      <td>ERR</td>\n",
       "    </tr>\n",
       "    <tr>\n",
       "      <th>27</th>\n",
       "      <td>0.0</td>\n",
       "      <td>ERR</td>\n",
       "    </tr>\n",
       "    <tr>\n",
       "      <th>38</th>\n",
       "      <td>0.0</td>\n",
       "      <td>ERR</td>\n",
       "    </tr>\n",
       "    <tr>\n",
       "      <th>...</th>\n",
       "      <td>...</td>\n",
       "      <td>...</td>\n",
       "    </tr>\n",
       "    <tr>\n",
       "      <th>304</th>\n",
       "      <td>0.0</td>\n",
       "      <td>ERR</td>\n",
       "    </tr>\n",
       "    <tr>\n",
       "      <th>307</th>\n",
       "      <td>0.0</td>\n",
       "      <td>ERR</td>\n",
       "    </tr>\n",
       "    <tr>\n",
       "      <th>308</th>\n",
       "      <td>0.0</td>\n",
       "      <td>ERR</td>\n",
       "    </tr>\n",
       "    <tr>\n",
       "      <th>310</th>\n",
       "      <td>0.0</td>\n",
       "      <td>ERR</td>\n",
       "    </tr>\n",
       "    <tr>\n",
       "      <th>370</th>\n",
       "      <td>0.0</td>\n",
       "      <td>ERR</td>\n",
       "    </tr>\n",
       "  </tbody>\n",
       "</table>\n",
       "<p>70 rows × 2 columns</p>\n",
       "</div>"
      ],
      "text/plain": [
       "     totalAmount status\n",
       "4            0.0    ERR\n",
       "20           0.0    ERR\n",
       "26           0.0    ERR\n",
       "27           0.0    ERR\n",
       "38           0.0    ERR\n",
       "..           ...    ...\n",
       "304          0.0    ERR\n",
       "307          0.0    ERR\n",
       "308          0.0    ERR\n",
       "310          0.0    ERR\n",
       "370          0.0    ERR\n",
       "\n",
       "[70 rows x 2 columns]"
      ]
     },
     "execution_count": 11,
     "metadata": {},
     "output_type": "execute_result"
    }
   ],
   "source": [
    "payments.loc[payments.status == \"ERR\", [\"totalAmount\", \"status\"]]"
   ]
  },
  {
   "cell_type": "code",
   "execution_count": 9,
   "id": "390d17e2",
   "metadata": {},
   "outputs": [
    {
     "data": {
      "text/html": [
       "<div>\n",
       "<style scoped>\n",
       "    .dataframe tbody tr th:only-of-type {\n",
       "        vertical-align: middle;\n",
       "    }\n",
       "\n",
       "    .dataframe tbody tr th {\n",
       "        vertical-align: top;\n",
       "    }\n",
       "\n",
       "    .dataframe thead th {\n",
       "        text-align: right;\n",
       "    }\n",
       "</style>\n",
       "<table border=\"1\" class=\"dataframe\">\n",
       "  <thead>\n",
       "    <tr style=\"text-align: right;\">\n",
       "      <th></th>\n",
       "      <th>Unnamed: 0</th>\n",
       "      <th>uuid</th>\n",
       "      <th>locationGroupId</th>\n",
       "      <th>paymentActive</th>\n",
       "      <th>companyName</th>\n",
       "      <th>city</th>\n",
       "    </tr>\n",
       "  </thead>\n",
       "  <tbody>\n",
       "    <tr>\n",
       "      <th>0</th>\n",
       "      <td>0</td>\n",
       "      <td>c7c6549a-8226-5cc5-98ae-dd3e89d4586e</td>\n",
       "      <td>ee34290f-711f-582b-864f-14ed09e58c11</td>\n",
       "      <td>True</td>\n",
       "      <td>culture4life GmbH</td>\n",
       "      <td>Berlin</td>\n",
       "    </tr>\n",
       "    <tr>\n",
       "      <th>1</th>\n",
       "      <td>1</td>\n",
       "      <td>3a88c5dc-72b3-5a07-9bab-c318ca319de1</td>\n",
       "      <td>db481aa0-58af-5c0b-8c55-3e0bc310d9ee</td>\n",
       "      <td>True</td>\n",
       "      <td>Unternehmen</td>\n",
       "      <td>Ot</td>\n",
       "    </tr>\n",
       "    <tr>\n",
       "      <th>2</th>\n",
       "      <td>2</td>\n",
       "      <td>20cc0d83-486f-5000-91eb-b695196458c5</td>\n",
       "      <td>3bd04d8b-bc3f-59e8-899b-c901a5349103</td>\n",
       "      <td>True</td>\n",
       "      <td>culture4life GmbH</td>\n",
       "      <td>Berlin</td>\n",
       "    </tr>\n",
       "    <tr>\n",
       "      <th>3</th>\n",
       "      <td>3</td>\n",
       "      <td>337f3986-f7b2-5832-9268-972330720e8a</td>\n",
       "      <td>36cf69a9-e9a1-5e92-8425-b56376993516</td>\n",
       "      <td>True</td>\n",
       "      <td>culture4life GmbH</td>\n",
       "      <td>Berlin</td>\n",
       "    </tr>\n",
       "    <tr>\n",
       "      <th>4</th>\n",
       "      <td>4</td>\n",
       "      <td>8adbea98-c712-50fe-bbe3-dd18dd53965a</td>\n",
       "      <td>91eaf90e-e88c-5ab4-9523-2a27e8bd4298</td>\n",
       "      <td>True</td>\n",
       "      <td>Unternehmen</td>\n",
       "      <td>Ot</td>\n",
       "    </tr>\n",
       "  </tbody>\n",
       "</table>\n",
       "</div>"
      ],
      "text/plain": [
       "   Unnamed: 0                                  uuid  \\\n",
       "0           0  c7c6549a-8226-5cc5-98ae-dd3e89d4586e   \n",
       "1           1  3a88c5dc-72b3-5a07-9bab-c318ca319de1   \n",
       "2           2  20cc0d83-486f-5000-91eb-b695196458c5   \n",
       "3           3  337f3986-f7b2-5832-9268-972330720e8a   \n",
       "4           4  8adbea98-c712-50fe-bbe3-dd18dd53965a   \n",
       "\n",
       "                        locationGroupId  paymentActive        companyName  \\\n",
       "0  ee34290f-711f-582b-864f-14ed09e58c11           True  culture4life GmbH   \n",
       "1  db481aa0-58af-5c0b-8c55-3e0bc310d9ee           True        Unternehmen   \n",
       "2  3bd04d8b-bc3f-59e8-899b-c901a5349103           True  culture4life GmbH   \n",
       "3  36cf69a9-e9a1-5e92-8425-b56376993516           True  culture4life GmbH   \n",
       "4  91eaf90e-e88c-5ab4-9523-2a27e8bd4298           True        Unternehmen   \n",
       "\n",
       "     city  \n",
       "0  Berlin  \n",
       "1      Ot  \n",
       "2  Berlin  \n",
       "3  Berlin  \n",
       "4      Ot  "
      ]
     },
     "execution_count": 9,
     "metadata": {},
     "output_type": "execute_result"
    }
   ],
   "source": [
    "locations.head()"
   ]
  },
  {
   "cell_type": "code",
   "execution_count": 16,
   "id": "4ba7eaee",
   "metadata": {},
   "outputs": [
    {
     "name": "stdout",
     "output_type": "stream",
     "text": [
      "<class 'pandas.core.frame.DataFrame'>\n",
      "RangeIndex: 366 entries, 0 to 365\n",
      "Data columns (total 6 columns):\n",
      " #   Column           Non-Null Count  Dtype \n",
      "---  ------           --------------  ----- \n",
      " 0   Unnamed: 0       366 non-null    int64 \n",
      " 1   uuid             366 non-null    object\n",
      " 2   locationGroupId  366 non-null    object\n",
      " 3   paymentActive    366 non-null    bool  \n",
      " 4   companyName      366 non-null    object\n",
      " 5   city             366 non-null    object\n",
      "dtypes: bool(1), int64(1), object(4)\n",
      "memory usage: 14.8+ KB\n"
     ]
    }
   ],
   "source": [
    "locations.info()"
   ]
  },
  {
   "cell_type": "code",
   "execution_count": 12,
   "id": "d61ae882",
   "metadata": {},
   "outputs": [
    {
     "data": {
      "text/plain": [
       "213"
      ]
     },
     "execution_count": 12,
     "metadata": {},
     "output_type": "execute_result"
    }
   ],
   "source": [
    "locations[\"companyName\"].nunique()"
   ]
  },
  {
   "cell_type": "code",
   "execution_count": 13,
   "id": "4acac573",
   "metadata": {},
   "outputs": [
    {
     "data": {
      "text/plain": [
       "array(['culture4life GmbH', 'Unternehmen', 'S.E.B. Spezialeinbauten GmbH',\n",
       "       'Ban Canteen GmbH & Co. KG', 'Baghi & Baghi oHG', 'IssBesser GmbH',\n",
       "       'DUFTE Manufaktur', 'HeartSpace Lifestyle GmbH', 'freiraum.co',\n",
       "       '3YS Vision GmbH', 'Quchnia', 'Bans & Bans GbR', 'Tobis Cafe',\n",
       "       'Pho Nguyen 68', 'U', 'D.Rossberg',\n",
       "       'Ostfr. Landschftl. Brandkasse', 'Samira Baghi', 'Francis Ross',\n",
       "       'cafe sofa', 'Nexenio', 'Pianosalon Christophori ',\n",
       "       'Pizza King Nürnberg', 'P TWO', 'Minimarkt Stresow',\n",
       "       'Oliver Stumhofer / Shirtplus', 'Anou GmbH',\n",
       "       'Schule am Ilmer Barg', 'Arboretum Neuenkoop', 'Talavasek Josef',\n",
       "       'Privathotels Dr.Lohbeck GmbH & Co.KG Hotel am Mühlenteich',\n",
       "       'Sven Schneider Steammachine®',\n",
       "       'SPA architekten - stadtplaner - ingenieure',\n",
       "       'Kunstgut Krahne GbR', 'Der Wok Vechta', 'ND',\n",
       "       'Avocado Gastronomie und Catering GmbH', 'Haargärtnerei Alflen',\n",
       "       'eiscafe sam remo', 'denvers Craftbeer-Brauerei & Feinkostladen',\n",
       "       'Physiotherapie Heier', 'Radio Sunray-FM e.K.', 'Foto Iben GmbH',\n",
       "       'Ennovy-Designs - Goldschmiede & Schmuckhandel',\n",
       "       'SV Rot-Weiß Dünstekoven. e.V.', 'HOTEL RESTAURANT CAFE KEMPENHOF',\n",
       "       'Holger Rüppel', 'Aqualand Tauchsport & Reisen, Inh. Stefan Blatt',\n",
       "       'Ristorante Anima', 'Old Vineyard Weinbistro', 'Kaffeekunzt',\n",
       "       'Restaurant Durrani', 'Gesundheitszentrum Beckmann',\n",
       "       'GLG Bewirtung & Catering Ug (haftungsbeschränkt)',\n",
       "       'PRAXIS FÜR NATURHEILKUNDE ', 'Sonnenbräu',\n",
       "       'Hinode - Japanisches Restaurant', 'Teddybärenhotel',\n",
       "       'Landgasho Ziegelhütte', 'Drautzburg ',\n",
       "       'schnurstracks Aktiv GmbH - Kletterpark Sachsenwald',\n",
       "       'Martins Imbiss Burgwedel', 'Ristorante Piazzetta',\n",
       "       'EFG Eckenhaid', 'Computer-Service', 'Party Crew',\n",
       "       'Daniel Becker - Handelsvertreter',\n",
       "       'Loccita Erlangen Arcaden im EG.', 'Überfisch', 'YassinSabah',\n",
       "       'cherryware GmbH', 'Boris Bratwürste', 'Hundezentrum Taunuspfoten',\n",
       "       'Frericks-Bus-Betriebs GmbH', 'City Braustübl',\n",
       "       'Live-Musik Esslingen e.V.', 'Gasthof Fallmühle', 'Das BlumenWerk',\n",
       "       'Elektro Baumgärtner GmbH', 'Bird`S Diner     Anton Vogl',\n",
       "       'Villa Tunichtgut', 'Juliansleben Design', 'heely',\n",
       "       'Kulturhafen Dresden GbR', 'Cafe Wahnsinn',\n",
       "       'Christel Lübcke Gastronomie u.G.', 'Hawker Bar & Kitchen',\n",
       "       'ChristianDemoLuca', 'Luca Test Dummy', 'il Gusto Gastro GmbH',\n",
       "       'Luca Leon Bauer', 'Hans-Werner Krob',\n",
       "       'Brauereigaststätte Dinkelacker', 'Tuchweberey / Akiv-Kreativ',\n",
       "       'Nagelstudio', 'ROTPUNKT Dr. Anso Zimmermann GmbH',\n",
       "       'China Restaurant Zhou', 'Urlaubsreiterhof',\n",
       "       'Penthouse Ostseepanorama', 'cafe restaurant haaf', 'Nothaft Cafe',\n",
       "       'Clubheim Bolbrinker im GTB', 'HEX.Event',\n",
       "       'Nguyen, Minh Sam + Do Ha, Chi GbR', 'Ferienwohnung Achterndiek',\n",
       "       'neXenio GmbH', 'schreier`s fish and more', 'Clara Vere GmbH',\n",
       "       'Reha & Yoga Schönow', 'boTec GmbH', 'Steffen G. Events',\n",
       "       'Familie Deutsch', 'Ballyclare GmbH', 'Jazzclub Schwäbisch Hall',\n",
       "       'Werner Bußmann GmbH', 'Restaurant IL Mondo', 'Immopit Imobilien',\n",
       "       'Dorit Münzer-Bock Speisekammer West',\n",
       "       'Thorsten und Volker Griebel GbR',\n",
       "       'Residenz Zehlendorf Kranken- und Pflegeheim GmbH',\n",
       "       'RentnerParadise', 'Origami Sushi & Asian Cuisine',\n",
       "       'Walter Hofmann Friseursalons', 'The Nubis', 'Küchen Kümper',\n",
       "       'Laug-Rumpel GmbH', 'Eisbacher', 'Operator Teamtest', 'Casa Nova',\n",
       "       'priv.', 'Tennisclub Nieder-Rosbach', 'Hotel am Markt',\n",
       "       'Phoenix KG', 'Provinzial Versicherung', 'Cafe Sporthalle Ost',\n",
       "       'coo', 'Absturzsicherungen Birkenwerder GmbH', 'sfdsdafds',\n",
       "       'BERKS Dancing GmbH', 'Spice Management GmbH', 'Zum Wilden luca ',\n",
       "       'Magdalena', 'WunderBar GbR', 'Blanco Coffee', 'Café Bar Cultura',\n",
       "       'Braugasthaus Schanzenhöfe GmbH', 'Thielsch Friseur GmbH',\n",
       "       'test place', 'Tina Meier Yoga Bike & Business Coaching', 'Safin',\n",
       "       'Tortentraum', 'Wiki Restaurant', 'Unterfisch',\n",
       "       'Praxis Elsenheimer', 'Nordsee Domizil Schobüll',\n",
       "       'Restaurant San Marino', 'Simela pizzeria finest food',\n",
       "       'KARMA- Eat fresh,live healthy', 'JIM COFFEY',\n",
       "       'Restaurant Schloss Steinhausen', 'T.E.C.S. GbR - Burgeramt',\n",
       "       'Adidas AG', 'RoKoSt Gaststättenbetriebsges. mbH', 'Karma',\n",
       "       'Gaststätte Brauerei Etzel', 'Rastenberger Waldschwimmbad e.V.',\n",
       "       'Windback Coffee', 'Nah am Wasser', 'Gelateria Pistakkio GbR',\n",
       "       'EST.', 'openmindsec', 'Munchy Berlin GmbH', 'Good One GmbH',\n",
       "       'Liebes Bisschen', 'Mahalo Poke', 'Pursuit of Coffee',\n",
       "       'Christel Lübcke Gastronomie uG', 'Litcoffeebar&bakery',\n",
       "       'Bagel Coffee Culture', 'WBK Wine Beef Kontor GmbH',\n",
       "       'Buttgereit GbR', 'Sissi Restaurant ', 'Macaibo GmbH',\n",
       "       'Evangelische kirchengemeinde meckenheim', 'Simela Finest Food',\n",
       "       'Restaurant King of India ', 'Curry & Co. OHG',\n",
       "       'OVEST Italian Touch', 'Bar39', 'Geschwister Nothaft Cafe',\n",
       "       'El Chilenito', 'kleines theater Bad Godesberg',\n",
       "       'Piccola Romantica', 'Chez Emil Restaurant', 'Kitty Cheng',\n",
       "       'The Vow Berlin', 'Das Lokal GmbH', 'City Pizza', 'Wild Chicken',\n",
       "       'Test', 'Black Burger', 'Smoozery', 'DGMK GmbH',\n",
       "       ' Restaurant Rösch ', 'Oishinbo', 'Nuovo Mario Fagiano GmbH',\n",
       "       'Nuovo Mario Fagiano GmbH ', 'KHALIFA RAHALI & OUERFELLI  GBR,',\n",
       "       'La Gondola Due', 'ISLAK Burger', 'Fisch', 'Schlosspark-Grill',\n",
       "       'Four-Gourmetgesellschaft mbh & CO.KG'], dtype=object)"
      ]
     },
     "execution_count": 13,
     "metadata": {},
     "output_type": "execute_result"
    }
   ],
   "source": [
    "locations[\"companyName\"].unique()"
   ]
  },
  {
   "cell_type": "code",
   "execution_count": null,
   "id": "02ab27c3",
   "metadata": {},
   "outputs": [],
   "source": []
  }
 ],
 "metadata": {
  "kernelspec": {
   "display_name": "Python 3 (ipykernel)",
   "language": "python",
   "name": "python3"
  },
  "language_info": {
   "codemirror_mode": {
    "name": "ipython",
    "version": 3
   },
   "file_extension": ".py",
   "mimetype": "text/x-python",
   "name": "python",
   "nbconvert_exporter": "python",
   "pygments_lexer": "ipython3",
   "version": "3.10.6"
  },
  "toc": {
   "base_numbering": 1,
   "nav_menu": {},
   "number_sections": true,
   "sideBar": true,
   "skip_h1_title": false,
   "title_cell": "Table of Contents",
   "title_sidebar": "Contents",
   "toc_cell": false,
   "toc_position": {},
   "toc_section_display": true,
   "toc_window_display": false
  }
 },
 "nbformat": 4,
 "nbformat_minor": 5
}
