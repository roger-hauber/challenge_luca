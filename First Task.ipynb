{
 "cells": [
  {
   "cell_type": "markdown",
   "id": "0c5c1054",
   "metadata": {},
   "source": [
    "# First Task"
   ]
  },
  {
   "cell_type": "code",
   "execution_count": 78,
   "id": "009ca6e2",
   "metadata": {},
   "outputs": [],
   "source": [
    "import sqlite3\n",
    "import pandas as pd\n",
    "import seaborn as sns"
   ]
  },
  {
   "cell_type": "code",
   "execution_count": 11,
   "id": "23bedf09",
   "metadata": {},
   "outputs": [],
   "source": [
    "## Set up database -- conn is a connection to the database c is a cursor object to interact with the connection\n",
    "conn = sqlite3.connect(\"data/challenge_db.db\")\n",
    "\n",
    "c = conn.cursor()\n"
   ]
  },
  {
   "cell_type": "code",
   "execution_count": 13,
   "id": "e4e0b1f3",
   "metadata": {},
   "outputs": [
    {
     "data": {
      "text/plain": [
       "<sqlite3.Cursor at 0x7feec139b1c0>"
      ]
     },
     "execution_count": 13,
     "metadata": {},
     "output_type": "execute_result"
    }
   ],
   "source": [
    "# reset db\n",
    "c.execute(\"\"\"DROP TABLE locations\"\"\")\n",
    "c.execute(\"\"\"DROP TABLE payments\"\"\")"
   ]
  },
  {
   "cell_type": "code",
   "execution_count": 14,
   "id": "94072ffe",
   "metadata": {},
   "outputs": [
    {
     "data": {
      "text/plain": [
       "<sqlite3.Cursor at 0x7feec139b1c0>"
      ]
     },
     "execution_count": 14,
     "metadata": {},
     "output_type": "execute_result"
    }
   ],
   "source": [
    "## create a locations table from the csv\n",
    "# via c.execute(query) with query as multiline string\n",
    "c.execute(\"\"\"CREATE TABLE locations (uuid varchar,\n",
    "locationGroupId varchar, paymentActive bool, companyName varchar, city varchar)\"\"\")"
   ]
  },
  {
   "cell_type": "code",
   "execution_count": 15,
   "id": "e9b84fe4",
   "metadata": {},
   "outputs": [
    {
     "data": {
      "text/plain": [
       "<sqlite3.Cursor at 0x7feec139b1c0>"
      ]
     },
     "execution_count": 15,
     "metadata": {},
     "output_type": "execute_result"
    }
   ],
   "source": [
    "## same for payments from csv\n",
    "c.execute(\"\"\"CREATE TABLE payments (uuid varchar, locationId varchar, paymentCreatedAt datetime, \n",
    "totalAmount float, status varchar)\"\"\")"
   ]
  },
  {
   "cell_type": "code",
   "execution_count": 18,
   "id": "1b77a30f",
   "metadata": {},
   "outputs": [],
   "source": [
    "## Now load the csvs as dataframes\n",
    "payments = pd.read_csv(\"data/payments.csv\")\n",
    "locations = pd.read_csv(\"data/locations.csv\")\n",
    "# get rid of unnamed first column\n",
    "payments = payments.iloc[:, 1:]\n",
    "locations = locations.iloc[:, 1:]"
   ]
  },
  {
   "cell_type": "code",
   "execution_count": 19,
   "id": "c88a55a4",
   "metadata": {},
   "outputs": [
    {
     "data": {
      "text/plain": [
       "383"
      ]
     },
     "execution_count": 19,
     "metadata": {},
     "output_type": "execute_result"
    }
   ],
   "source": [
    "payments.to_sql(\"payments\", con = conn, if_exists=\"replace\", index=False)"
   ]
  },
  {
   "cell_type": "code",
   "execution_count": 20,
   "id": "54525677",
   "metadata": {},
   "outputs": [
    {
     "data": {
      "text/plain": [
       "366"
      ]
     },
     "execution_count": 20,
     "metadata": {},
     "output_type": "execute_result"
    }
   ],
   "source": [
    "locations.to_sql(\"locations\", con = conn, if_exists=\"replace\", index=False)"
   ]
  },
  {
   "cell_type": "code",
   "execution_count": 21,
   "id": "b6ac05cb",
   "metadata": {},
   "outputs": [],
   "source": [
    "### use pd.read_sql() with query to get the joined tables\n",
    "joined_df = pd.read_sql(\"\"\"SELECT * FROM locations JOIN payments ON locations.uuid=payments.locationId\"\"\", conn)"
   ]
  },
  {
   "cell_type": "code",
   "execution_count": 22,
   "id": "a3551991",
   "metadata": {},
   "outputs": [
    {
     "data": {
      "text/html": [
       "<div>\n",
       "<style scoped>\n",
       "    .dataframe tbody tr th:only-of-type {\n",
       "        vertical-align: middle;\n",
       "    }\n",
       "\n",
       "    .dataframe tbody tr th {\n",
       "        vertical-align: top;\n",
       "    }\n",
       "\n",
       "    .dataframe thead th {\n",
       "        text-align: right;\n",
       "    }\n",
       "</style>\n",
       "<table border=\"1\" class=\"dataframe\">\n",
       "  <thead>\n",
       "    <tr style=\"text-align: right;\">\n",
       "      <th></th>\n",
       "      <th>uuid</th>\n",
       "      <th>locationGroupId</th>\n",
       "      <th>paymentActive</th>\n",
       "      <th>companyName</th>\n",
       "      <th>city</th>\n",
       "      <th>uuid</th>\n",
       "      <th>locationId</th>\n",
       "      <th>paymentCreatedAt</th>\n",
       "      <th>totalAmount</th>\n",
       "      <th>status</th>\n",
       "    </tr>\n",
       "  </thead>\n",
       "  <tbody>\n",
       "    <tr>\n",
       "      <th>0</th>\n",
       "      <td>c7c6549a-8226-5cc5-98ae-dd3e89d4586e</td>\n",
       "      <td>ee34290f-711f-582b-864f-14ed09e58c11</td>\n",
       "      <td>1</td>\n",
       "      <td>culture4life GmbH</td>\n",
       "      <td>Berlin</td>\n",
       "      <td>03cec838-d3ba-52f3-9eb1-3bf9da16cdf8</td>\n",
       "      <td>c7c6549a-8226-5cc5-98ae-dd3e89d4586e</td>\n",
       "      <td>2022-04-29 15:00:38.000000 +00:00</td>\n",
       "      <td>1.1</td>\n",
       "      <td>CLO</td>\n",
       "    </tr>\n",
       "    <tr>\n",
       "      <th>1</th>\n",
       "      <td>c7c6549a-8226-5cc5-98ae-dd3e89d4586e</td>\n",
       "      <td>ee34290f-711f-582b-864f-14ed09e58c11</td>\n",
       "      <td>1</td>\n",
       "      <td>culture4life GmbH</td>\n",
       "      <td>Berlin</td>\n",
       "      <td>08d50f76-635e-5034-9ccf-443e90d7ba6e</td>\n",
       "      <td>c7c6549a-8226-5cc5-98ae-dd3e89d4586e</td>\n",
       "      <td>2022-06-17 09:08:10.000000 +00:00</td>\n",
       "      <td>5.5</td>\n",
       "      <td>CLO</td>\n",
       "    </tr>\n",
       "    <tr>\n",
       "      <th>2</th>\n",
       "      <td>c7c6549a-8226-5cc5-98ae-dd3e89d4586e</td>\n",
       "      <td>ee34290f-711f-582b-864f-14ed09e58c11</td>\n",
       "      <td>1</td>\n",
       "      <td>culture4life GmbH</td>\n",
       "      <td>Berlin</td>\n",
       "      <td>0c2d33a6-d577-5ff0-ba2a-f33d23fdd8c1</td>\n",
       "      <td>c7c6549a-8226-5cc5-98ae-dd3e89d4586e</td>\n",
       "      <td>2022-05-31 10:45:41.000000 +00:00</td>\n",
       "      <td>3.3</td>\n",
       "      <td>CLO</td>\n",
       "    </tr>\n",
       "    <tr>\n",
       "      <th>3</th>\n",
       "      <td>c7c6549a-8226-5cc5-98ae-dd3e89d4586e</td>\n",
       "      <td>ee34290f-711f-582b-864f-14ed09e58c11</td>\n",
       "      <td>1</td>\n",
       "      <td>culture4life GmbH</td>\n",
       "      <td>Berlin</td>\n",
       "      <td>0e2c6524-cd62-51c3-976d-1909051ba888</td>\n",
       "      <td>c7c6549a-8226-5cc5-98ae-dd3e89d4586e</td>\n",
       "      <td>2022-05-19 15:21:28.000000 +00:00</td>\n",
       "      <td>2.0</td>\n",
       "      <td>CLO</td>\n",
       "    </tr>\n",
       "    <tr>\n",
       "      <th>4</th>\n",
       "      <td>c7c6549a-8226-5cc5-98ae-dd3e89d4586e</td>\n",
       "      <td>ee34290f-711f-582b-864f-14ed09e58c11</td>\n",
       "      <td>1</td>\n",
       "      <td>culture4life GmbH</td>\n",
       "      <td>Berlin</td>\n",
       "      <td>0fa854d7-6234-5af4-becf-295d3aa95de5</td>\n",
       "      <td>c7c6549a-8226-5cc5-98ae-dd3e89d4586e</td>\n",
       "      <td>2022-05-06 15:25:03.000000 +00:00</td>\n",
       "      <td>5.5</td>\n",
       "      <td>CLO</td>\n",
       "    </tr>\n",
       "  </tbody>\n",
       "</table>\n",
       "</div>"
      ],
      "text/plain": [
       "                                   uuid                       locationGroupId  \\\n",
       "0  c7c6549a-8226-5cc5-98ae-dd3e89d4586e  ee34290f-711f-582b-864f-14ed09e58c11   \n",
       "1  c7c6549a-8226-5cc5-98ae-dd3e89d4586e  ee34290f-711f-582b-864f-14ed09e58c11   \n",
       "2  c7c6549a-8226-5cc5-98ae-dd3e89d4586e  ee34290f-711f-582b-864f-14ed09e58c11   \n",
       "3  c7c6549a-8226-5cc5-98ae-dd3e89d4586e  ee34290f-711f-582b-864f-14ed09e58c11   \n",
       "4  c7c6549a-8226-5cc5-98ae-dd3e89d4586e  ee34290f-711f-582b-864f-14ed09e58c11   \n",
       "\n",
       "   paymentActive        companyName    city  \\\n",
       "0              1  culture4life GmbH  Berlin   \n",
       "1              1  culture4life GmbH  Berlin   \n",
       "2              1  culture4life GmbH  Berlin   \n",
       "3              1  culture4life GmbH  Berlin   \n",
       "4              1  culture4life GmbH  Berlin   \n",
       "\n",
       "                                   uuid                            locationId  \\\n",
       "0  03cec838-d3ba-52f3-9eb1-3bf9da16cdf8  c7c6549a-8226-5cc5-98ae-dd3e89d4586e   \n",
       "1  08d50f76-635e-5034-9ccf-443e90d7ba6e  c7c6549a-8226-5cc5-98ae-dd3e89d4586e   \n",
       "2  0c2d33a6-d577-5ff0-ba2a-f33d23fdd8c1  c7c6549a-8226-5cc5-98ae-dd3e89d4586e   \n",
       "3  0e2c6524-cd62-51c3-976d-1909051ba888  c7c6549a-8226-5cc5-98ae-dd3e89d4586e   \n",
       "4  0fa854d7-6234-5af4-becf-295d3aa95de5  c7c6549a-8226-5cc5-98ae-dd3e89d4586e   \n",
       "\n",
       "                    paymentCreatedAt  totalAmount status  \n",
       "0  2022-04-29 15:00:38.000000 +00:00          1.1    CLO  \n",
       "1  2022-06-17 09:08:10.000000 +00:00          5.5    CLO  \n",
       "2  2022-05-31 10:45:41.000000 +00:00          3.3    CLO  \n",
       "3  2022-05-19 15:21:28.000000 +00:00          2.0    CLO  \n",
       "4  2022-05-06 15:25:03.000000 +00:00          5.5    CLO  "
      ]
     },
     "execution_count": 22,
     "metadata": {},
     "output_type": "execute_result"
    }
   ],
   "source": [
    "joined_df.head()"
   ]
  },
  {
   "cell_type": "code",
   "execution_count": 23,
   "id": "504c00a3",
   "metadata": {},
   "outputs": [
    {
     "name": "stdout",
     "output_type": "stream",
     "text": [
      "<class 'pandas.core.frame.DataFrame'>\n",
      "RangeIndex: 383 entries, 0 to 382\n",
      "Data columns (total 10 columns):\n",
      " #   Column            Non-Null Count  Dtype  \n",
      "---  ------            --------------  -----  \n",
      " 0   uuid              383 non-null    object \n",
      " 1   locationGroupId   383 non-null    object \n",
      " 2   paymentActive     383 non-null    int64  \n",
      " 3   companyName       383 non-null    object \n",
      " 4   city              383 non-null    object \n",
      " 5   uuid              383 non-null    object \n",
      " 6   locationId        383 non-null    object \n",
      " 7   paymentCreatedAt  383 non-null    object \n",
      " 8   totalAmount       383 non-null    float64\n",
      " 9   status            383 non-null    object \n",
      "dtypes: float64(1), int64(1), object(8)\n",
      "memory usage: 30.0+ KB\n"
     ]
    }
   ],
   "source": [
    "joined_df.info()"
   ]
  },
  {
   "cell_type": "code",
   "execution_count": 24,
   "id": "516165c0",
   "metadata": {},
   "outputs": [],
   "source": [
    "joined_df[\"paymentCreatedAt\"] = pd.to_datetime(joined_df[\"paymentCreatedAt\"])"
   ]
  },
  {
   "cell_type": "code",
   "execution_count": 25,
   "id": "6a6f7299",
   "metadata": {},
   "outputs": [
    {
     "name": "stdout",
     "output_type": "stream",
     "text": [
      "<class 'pandas.core.frame.DataFrame'>\n",
      "RangeIndex: 383 entries, 0 to 382\n",
      "Data columns (total 10 columns):\n",
      " #   Column            Non-Null Count  Dtype              \n",
      "---  ------            --------------  -----              \n",
      " 0   uuid              383 non-null    object             \n",
      " 1   locationGroupId   383 non-null    object             \n",
      " 2   paymentActive     383 non-null    int64              \n",
      " 3   companyName       383 non-null    object             \n",
      " 4   city              383 non-null    object             \n",
      " 5   uuid              383 non-null    object             \n",
      " 6   locationId        383 non-null    object             \n",
      " 7   paymentCreatedAt  383 non-null    datetime64[ns, UTC]\n",
      " 8   totalAmount       383 non-null    float64            \n",
      " 9   status            383 non-null    object             \n",
      "dtypes: datetime64[ns, UTC](1), float64(1), int64(1), object(7)\n",
      "memory usage: 30.0+ KB\n"
     ]
    }
   ],
   "source": [
    "joined_df.info()"
   ]
  },
  {
   "cell_type": "code",
   "execution_count": 26,
   "id": "1c5a3a83",
   "metadata": {},
   "outputs": [
    {
     "data": {
      "text/plain": [
       "Timestamp('1970-01-01 00:00:00+0000', tz='UTC')"
      ]
     },
     "execution_count": 26,
     "metadata": {},
     "output_type": "execute_result"
    }
   ],
   "source": [
    "joined_df[\"paymentCreatedAt\"].min()"
   ]
  },
  {
   "cell_type": "code",
   "execution_count": 27,
   "id": "e1d0e5a8",
   "metadata": {},
   "outputs": [
    {
     "data": {
      "text/plain": [
       "Timestamp('2022-07-05 13:14:12+0000', tz='UTC')"
      ]
     },
     "execution_count": 27,
     "metadata": {},
     "output_type": "execute_result"
    }
   ],
   "source": [
    "joined_df[\"paymentCreatedAt\"].max()"
   ]
  },
  {
   "cell_type": "code",
   "execution_count": 28,
   "id": "54260dd4",
   "metadata": {},
   "outputs": [
    {
     "data": {
      "text/html": [
       "<div>\n",
       "<style scoped>\n",
       "    .dataframe tbody tr th:only-of-type {\n",
       "        vertical-align: middle;\n",
       "    }\n",
       "\n",
       "    .dataframe tbody tr th {\n",
       "        vertical-align: top;\n",
       "    }\n",
       "\n",
       "    .dataframe thead th {\n",
       "        text-align: right;\n",
       "    }\n",
       "</style>\n",
       "<table border=\"1\" class=\"dataframe\">\n",
       "  <thead>\n",
       "    <tr style=\"text-align: right;\">\n",
       "      <th></th>\n",
       "      <th>uuid</th>\n",
       "      <th>locationGroupId</th>\n",
       "      <th>paymentActive</th>\n",
       "      <th>companyName</th>\n",
       "      <th>city</th>\n",
       "      <th>uuid</th>\n",
       "      <th>locationId</th>\n",
       "      <th>paymentCreatedAt</th>\n",
       "      <th>totalAmount</th>\n",
       "      <th>status</th>\n",
       "    </tr>\n",
       "  </thead>\n",
       "  <tbody>\n",
       "    <tr>\n",
       "      <th>89</th>\n",
       "      <td>20cc0d83-486f-5000-91eb-b695196458c5</td>\n",
       "      <td>3bd04d8b-bc3f-59e8-899b-c901a5349103</td>\n",
       "      <td>1</td>\n",
       "      <td>culture4life GmbH</td>\n",
       "      <td>Berlin</td>\n",
       "      <td>4f410a1d-f1ec-5f0e-adb2-f3c101c69712</td>\n",
       "      <td>20cc0d83-486f-5000-91eb-b695196458c5</td>\n",
       "      <td>1970-01-01 00:00:00+00:00</td>\n",
       "      <td>5.50</td>\n",
       "      <td>ERR</td>\n",
       "    </tr>\n",
       "    <tr>\n",
       "      <th>329</th>\n",
       "      <td>e90abf83-0b13-5731-816d-124706f6b1b1</td>\n",
       "      <td>8d82d38f-495f-5acf-83a5-40a75d2450a0</td>\n",
       "      <td>1</td>\n",
       "      <td>Café Bar Cultura</td>\n",
       "      <td>Kiel</td>\n",
       "      <td>f115c3ee-d1c0-5d8e-83d4-9378034757cf</td>\n",
       "      <td>e90abf83-0b13-5731-816d-124706f6b1b1</td>\n",
       "      <td>1970-01-01 00:00:00+00:00</td>\n",
       "      <td>19.00</td>\n",
       "      <td>ERR</td>\n",
       "    </tr>\n",
       "    <tr>\n",
       "      <th>105</th>\n",
       "      <td>20cc0d83-486f-5000-91eb-b695196458c5</td>\n",
       "      <td>3bd04d8b-bc3f-59e8-899b-c901a5349103</td>\n",
       "      <td>1</td>\n",
       "      <td>culture4life GmbH</td>\n",
       "      <td>Berlin</td>\n",
       "      <td>817b7af9-1891-51ee-92eb-6019b3dbfc04</td>\n",
       "      <td>20cc0d83-486f-5000-91eb-b695196458c5</td>\n",
       "      <td>1970-01-01 00:00:00+00:00</td>\n",
       "      <td>0.55</td>\n",
       "      <td>ERR</td>\n",
       "    </tr>\n",
       "    <tr>\n",
       "      <th>110</th>\n",
       "      <td>20cc0d83-486f-5000-91eb-b695196458c5</td>\n",
       "      <td>3bd04d8b-bc3f-59e8-899b-c901a5349103</td>\n",
       "      <td>1</td>\n",
       "      <td>culture4life GmbH</td>\n",
       "      <td>Berlin</td>\n",
       "      <td>96c6a089-7671-5fa4-a01f-98d3ae055894</td>\n",
       "      <td>20cc0d83-486f-5000-91eb-b695196458c5</td>\n",
       "      <td>1970-01-01 00:00:00+00:00</td>\n",
       "      <td>0.55</td>\n",
       "      <td>ERR</td>\n",
       "    </tr>\n",
       "    <tr>\n",
       "      <th>120</th>\n",
       "      <td>20cc0d83-486f-5000-91eb-b695196458c5</td>\n",
       "      <td>3bd04d8b-bc3f-59e8-899b-c901a5349103</td>\n",
       "      <td>1</td>\n",
       "      <td>culture4life GmbH</td>\n",
       "      <td>Berlin</td>\n",
       "      <td>bcee2f64-b445-55b3-b3e1-f5522030cf7c</td>\n",
       "      <td>20cc0d83-486f-5000-91eb-b695196458c5</td>\n",
       "      <td>1970-01-01 00:00:00+00:00</td>\n",
       "      <td>5.50</td>\n",
       "      <td>ERR</td>\n",
       "    </tr>\n",
       "    <tr>\n",
       "      <th>...</th>\n",
       "      <td>...</td>\n",
       "      <td>...</td>\n",
       "      <td>...</td>\n",
       "      <td>...</td>\n",
       "      <td>...</td>\n",
       "      <td>...</td>\n",
       "      <td>...</td>\n",
       "      <td>...</td>\n",
       "      <td>...</td>\n",
       "      <td>...</td>\n",
       "    </tr>\n",
       "    <tr>\n",
       "      <th>97</th>\n",
       "      <td>20cc0d83-486f-5000-91eb-b695196458c5</td>\n",
       "      <td>3bd04d8b-bc3f-59e8-899b-c901a5349103</td>\n",
       "      <td>1</td>\n",
       "      <td>culture4life GmbH</td>\n",
       "      <td>Berlin</td>\n",
       "      <td>5ad0b190-a7a8-556c-99c2-ba4897b85942</td>\n",
       "      <td>20cc0d83-486f-5000-91eb-b695196458c5</td>\n",
       "      <td>2022-07-04 20:20:02+00:00</td>\n",
       "      <td>0.50</td>\n",
       "      <td>CLO</td>\n",
       "    </tr>\n",
       "    <tr>\n",
       "      <th>345</th>\n",
       "      <td>054e08f5-cf0e-52ef-ac37-c09e74e4842e</td>\n",
       "      <td>b1a4540f-bb26-5d7f-99dd-0d5204b759d9</td>\n",
       "      <td>1</td>\n",
       "      <td>Nah am Wasser</td>\n",
       "      <td>Berlin</td>\n",
       "      <td>daade908-54ae-51be-b444-6da23cc34a70</td>\n",
       "      <td>054e08f5-cf0e-52ef-ac37-c09e74e4842e</td>\n",
       "      <td>2022-07-05 06:21:18+00:00</td>\n",
       "      <td>1.10</td>\n",
       "      <td>CLO</td>\n",
       "    </tr>\n",
       "    <tr>\n",
       "      <th>382</th>\n",
       "      <td>b00c8469-05fc-5a2d-874e-16b116ed8c4f</td>\n",
       "      <td>6b094bf1-6708-5b47-b183-7e31e9e74058</td>\n",
       "      <td>1</td>\n",
       "      <td>Schlosspark-Grill</td>\n",
       "      <td>Berlin</td>\n",
       "      <td>bde0284f-018a-5e5c-ab21-f08bc3ed5462</td>\n",
       "      <td>b00c8469-05fc-5a2d-874e-16b116ed8c4f</td>\n",
       "      <td>2022-07-05 09:15:48+00:00</td>\n",
       "      <td>1.10</td>\n",
       "      <td>CLO</td>\n",
       "    </tr>\n",
       "    <tr>\n",
       "      <th>141</th>\n",
       "      <td>20cc0d83-486f-5000-91eb-b695196458c5</td>\n",
       "      <td>3bd04d8b-bc3f-59e8-899b-c901a5349103</td>\n",
       "      <td>1</td>\n",
       "      <td>culture4life GmbH</td>\n",
       "      <td>Berlin</td>\n",
       "      <td>eb824390-6807-5e45-b39c-ed163fb56bb9</td>\n",
       "      <td>20cc0d83-486f-5000-91eb-b695196458c5</td>\n",
       "      <td>2022-07-05 10:38:15+00:00</td>\n",
       "      <td>1.10</td>\n",
       "      <td>CLO</td>\n",
       "    </tr>\n",
       "    <tr>\n",
       "      <th>136</th>\n",
       "      <td>20cc0d83-486f-5000-91eb-b695196458c5</td>\n",
       "      <td>3bd04d8b-bc3f-59e8-899b-c901a5349103</td>\n",
       "      <td>1</td>\n",
       "      <td>culture4life GmbH</td>\n",
       "      <td>Berlin</td>\n",
       "      <td>df166de9-dc3f-5315-898f-7714ea151654</td>\n",
       "      <td>20cc0d83-486f-5000-91eb-b695196458c5</td>\n",
       "      <td>2022-07-05 13:14:12+00:00</td>\n",
       "      <td>1.10</td>\n",
       "      <td>CLO</td>\n",
       "    </tr>\n",
       "  </tbody>\n",
       "</table>\n",
       "<p>383 rows × 10 columns</p>\n",
       "</div>"
      ],
      "text/plain": [
       "                                     uuid  \\\n",
       "89   20cc0d83-486f-5000-91eb-b695196458c5   \n",
       "329  e90abf83-0b13-5731-816d-124706f6b1b1   \n",
       "105  20cc0d83-486f-5000-91eb-b695196458c5   \n",
       "110  20cc0d83-486f-5000-91eb-b695196458c5   \n",
       "120  20cc0d83-486f-5000-91eb-b695196458c5   \n",
       "..                                    ...   \n",
       "97   20cc0d83-486f-5000-91eb-b695196458c5   \n",
       "345  054e08f5-cf0e-52ef-ac37-c09e74e4842e   \n",
       "382  b00c8469-05fc-5a2d-874e-16b116ed8c4f   \n",
       "141  20cc0d83-486f-5000-91eb-b695196458c5   \n",
       "136  20cc0d83-486f-5000-91eb-b695196458c5   \n",
       "\n",
       "                          locationGroupId  paymentActive        companyName  \\\n",
       "89   3bd04d8b-bc3f-59e8-899b-c901a5349103              1  culture4life GmbH   \n",
       "329  8d82d38f-495f-5acf-83a5-40a75d2450a0              1   Café Bar Cultura   \n",
       "105  3bd04d8b-bc3f-59e8-899b-c901a5349103              1  culture4life GmbH   \n",
       "110  3bd04d8b-bc3f-59e8-899b-c901a5349103              1  culture4life GmbH   \n",
       "120  3bd04d8b-bc3f-59e8-899b-c901a5349103              1  culture4life GmbH   \n",
       "..                                    ...            ...                ...   \n",
       "97   3bd04d8b-bc3f-59e8-899b-c901a5349103              1  culture4life GmbH   \n",
       "345  b1a4540f-bb26-5d7f-99dd-0d5204b759d9              1      Nah am Wasser   \n",
       "382  6b094bf1-6708-5b47-b183-7e31e9e74058              1  Schlosspark-Grill   \n",
       "141  3bd04d8b-bc3f-59e8-899b-c901a5349103              1  culture4life GmbH   \n",
       "136  3bd04d8b-bc3f-59e8-899b-c901a5349103              1  culture4life GmbH   \n",
       "\n",
       "       city                                  uuid  \\\n",
       "89   Berlin  4f410a1d-f1ec-5f0e-adb2-f3c101c69712   \n",
       "329    Kiel  f115c3ee-d1c0-5d8e-83d4-9378034757cf   \n",
       "105  Berlin  817b7af9-1891-51ee-92eb-6019b3dbfc04   \n",
       "110  Berlin  96c6a089-7671-5fa4-a01f-98d3ae055894   \n",
       "120  Berlin  bcee2f64-b445-55b3-b3e1-f5522030cf7c   \n",
       "..      ...                                   ...   \n",
       "97   Berlin  5ad0b190-a7a8-556c-99c2-ba4897b85942   \n",
       "345  Berlin  daade908-54ae-51be-b444-6da23cc34a70   \n",
       "382  Berlin  bde0284f-018a-5e5c-ab21-f08bc3ed5462   \n",
       "141  Berlin  eb824390-6807-5e45-b39c-ed163fb56bb9   \n",
       "136  Berlin  df166de9-dc3f-5315-898f-7714ea151654   \n",
       "\n",
       "                               locationId          paymentCreatedAt  \\\n",
       "89   20cc0d83-486f-5000-91eb-b695196458c5 1970-01-01 00:00:00+00:00   \n",
       "329  e90abf83-0b13-5731-816d-124706f6b1b1 1970-01-01 00:00:00+00:00   \n",
       "105  20cc0d83-486f-5000-91eb-b695196458c5 1970-01-01 00:00:00+00:00   \n",
       "110  20cc0d83-486f-5000-91eb-b695196458c5 1970-01-01 00:00:00+00:00   \n",
       "120  20cc0d83-486f-5000-91eb-b695196458c5 1970-01-01 00:00:00+00:00   \n",
       "..                                    ...                       ...   \n",
       "97   20cc0d83-486f-5000-91eb-b695196458c5 2022-07-04 20:20:02+00:00   \n",
       "345  054e08f5-cf0e-52ef-ac37-c09e74e4842e 2022-07-05 06:21:18+00:00   \n",
       "382  b00c8469-05fc-5a2d-874e-16b116ed8c4f 2022-07-05 09:15:48+00:00   \n",
       "141  20cc0d83-486f-5000-91eb-b695196458c5 2022-07-05 10:38:15+00:00   \n",
       "136  20cc0d83-486f-5000-91eb-b695196458c5 2022-07-05 13:14:12+00:00   \n",
       "\n",
       "     totalAmount status  \n",
       "89          5.50    ERR  \n",
       "329        19.00    ERR  \n",
       "105         0.55    ERR  \n",
       "110         0.55    ERR  \n",
       "120         5.50    ERR  \n",
       "..           ...    ...  \n",
       "97          0.50    CLO  \n",
       "345         1.10    CLO  \n",
       "382         1.10    CLO  \n",
       "141         1.10    CLO  \n",
       "136         1.10    CLO  \n",
       "\n",
       "[383 rows x 10 columns]"
      ]
     },
     "execution_count": 28,
     "metadata": {},
     "output_type": "execute_result"
    }
   ],
   "source": [
    "joined_df.sort_values(by = \"paymentCreatedAt\")"
   ]
  },
  {
   "cell_type": "code",
   "execution_count": 29,
   "id": "51405a6b",
   "metadata": {},
   "outputs": [],
   "source": [
    "joined_df = joined_df.loc[joined_df.status != \"ERR\", ]"
   ]
  },
  {
   "cell_type": "code",
   "execution_count": 30,
   "id": "9ce3dae6",
   "metadata": {},
   "outputs": [
    {
     "data": {
      "text/plain": [
       "Timestamp('2022-04-29 13:41:08+0000', tz='UTC')"
      ]
     },
     "execution_count": 30,
     "metadata": {},
     "output_type": "execute_result"
    }
   ],
   "source": [
    "joined_df.paymentCreatedAt.min()"
   ]
  },
  {
   "cell_type": "code",
   "execution_count": 37,
   "id": "8aae18dc",
   "metadata": {},
   "outputs": [
    {
     "name": "stderr",
     "output_type": "stream",
     "text": [
      "/tmp/ipykernel_20089/3757674282.py:1: SettingWithCopyWarning: \n",
      "A value is trying to be set on a copy of a slice from a DataFrame.\n",
      "Try using .loc[row_indexer,col_indexer] = value instead\n",
      "\n",
      "See the caveats in the documentation: https://pandas.pydata.org/pandas-docs/stable/user_guide/indexing.html#returning-a-view-versus-a-copy\n",
      "  joined_df.loc[:, \"week\"] = joined_df.paymentCreatedAt.dt.isocalendar().week\n",
      "/tmp/ipykernel_20089/3757674282.py:2: SettingWithCopyWarning: \n",
      "A value is trying to be set on a copy of a slice from a DataFrame.\n",
      "Try using .loc[row_indexer,col_indexer] = value instead\n",
      "\n",
      "See the caveats in the documentation: https://pandas.pydata.org/pandas-docs/stable/user_guide/indexing.html#returning-a-view-versus-a-copy\n",
      "  joined_df.loc[:, \"month\"] = joined_df.paymentCreatedAt.dt.month\n"
     ]
    }
   ],
   "source": [
    "joined_df.loc[:, \"week\"] = joined_df.paymentCreatedAt.dt.isocalendar().week\n",
    "joined_df.loc[:, \"month\"] = joined_df.paymentCreatedAt.dt.month"
   ]
  },
  {
   "cell_type": "code",
   "execution_count": 38,
   "id": "7c0470f4",
   "metadata": {},
   "outputs": [
    {
     "data": {
      "text/html": [
       "<div>\n",
       "<style scoped>\n",
       "    .dataframe tbody tr th:only-of-type {\n",
       "        vertical-align: middle;\n",
       "    }\n",
       "\n",
       "    .dataframe tbody tr th {\n",
       "        vertical-align: top;\n",
       "    }\n",
       "\n",
       "    .dataframe thead th {\n",
       "        text-align: right;\n",
       "    }\n",
       "</style>\n",
       "<table border=\"1\" class=\"dataframe\">\n",
       "  <thead>\n",
       "    <tr style=\"text-align: right;\">\n",
       "      <th></th>\n",
       "      <th>uuid</th>\n",
       "      <th>locationGroupId</th>\n",
       "      <th>paymentActive</th>\n",
       "      <th>companyName</th>\n",
       "      <th>city</th>\n",
       "      <th>uuid</th>\n",
       "      <th>locationId</th>\n",
       "      <th>paymentCreatedAt</th>\n",
       "      <th>totalAmount</th>\n",
       "      <th>status</th>\n",
       "      <th>week</th>\n",
       "      <th>month</th>\n",
       "    </tr>\n",
       "  </thead>\n",
       "  <tbody>\n",
       "    <tr>\n",
       "      <th>0</th>\n",
       "      <td>c7c6549a-8226-5cc5-98ae-dd3e89d4586e</td>\n",
       "      <td>ee34290f-711f-582b-864f-14ed09e58c11</td>\n",
       "      <td>1</td>\n",
       "      <td>culture4life GmbH</td>\n",
       "      <td>Berlin</td>\n",
       "      <td>03cec838-d3ba-52f3-9eb1-3bf9da16cdf8</td>\n",
       "      <td>c7c6549a-8226-5cc5-98ae-dd3e89d4586e</td>\n",
       "      <td>2022-04-29 15:00:38+00:00</td>\n",
       "      <td>1.1</td>\n",
       "      <td>CLO</td>\n",
       "      <td>17</td>\n",
       "      <td>4</td>\n",
       "    </tr>\n",
       "    <tr>\n",
       "      <th>1</th>\n",
       "      <td>c7c6549a-8226-5cc5-98ae-dd3e89d4586e</td>\n",
       "      <td>ee34290f-711f-582b-864f-14ed09e58c11</td>\n",
       "      <td>1</td>\n",
       "      <td>culture4life GmbH</td>\n",
       "      <td>Berlin</td>\n",
       "      <td>08d50f76-635e-5034-9ccf-443e90d7ba6e</td>\n",
       "      <td>c7c6549a-8226-5cc5-98ae-dd3e89d4586e</td>\n",
       "      <td>2022-06-17 09:08:10+00:00</td>\n",
       "      <td>5.5</td>\n",
       "      <td>CLO</td>\n",
       "      <td>24</td>\n",
       "      <td>6</td>\n",
       "    </tr>\n",
       "    <tr>\n",
       "      <th>2</th>\n",
       "      <td>c7c6549a-8226-5cc5-98ae-dd3e89d4586e</td>\n",
       "      <td>ee34290f-711f-582b-864f-14ed09e58c11</td>\n",
       "      <td>1</td>\n",
       "      <td>culture4life GmbH</td>\n",
       "      <td>Berlin</td>\n",
       "      <td>0c2d33a6-d577-5ff0-ba2a-f33d23fdd8c1</td>\n",
       "      <td>c7c6549a-8226-5cc5-98ae-dd3e89d4586e</td>\n",
       "      <td>2022-05-31 10:45:41+00:00</td>\n",
       "      <td>3.3</td>\n",
       "      <td>CLO</td>\n",
       "      <td>22</td>\n",
       "      <td>5</td>\n",
       "    </tr>\n",
       "    <tr>\n",
       "      <th>3</th>\n",
       "      <td>c7c6549a-8226-5cc5-98ae-dd3e89d4586e</td>\n",
       "      <td>ee34290f-711f-582b-864f-14ed09e58c11</td>\n",
       "      <td>1</td>\n",
       "      <td>culture4life GmbH</td>\n",
       "      <td>Berlin</td>\n",
       "      <td>0e2c6524-cd62-51c3-976d-1909051ba888</td>\n",
       "      <td>c7c6549a-8226-5cc5-98ae-dd3e89d4586e</td>\n",
       "      <td>2022-05-19 15:21:28+00:00</td>\n",
       "      <td>2.0</td>\n",
       "      <td>CLO</td>\n",
       "      <td>20</td>\n",
       "      <td>5</td>\n",
       "    </tr>\n",
       "    <tr>\n",
       "      <th>4</th>\n",
       "      <td>c7c6549a-8226-5cc5-98ae-dd3e89d4586e</td>\n",
       "      <td>ee34290f-711f-582b-864f-14ed09e58c11</td>\n",
       "      <td>1</td>\n",
       "      <td>culture4life GmbH</td>\n",
       "      <td>Berlin</td>\n",
       "      <td>0fa854d7-6234-5af4-becf-295d3aa95de5</td>\n",
       "      <td>c7c6549a-8226-5cc5-98ae-dd3e89d4586e</td>\n",
       "      <td>2022-05-06 15:25:03+00:00</td>\n",
       "      <td>5.5</td>\n",
       "      <td>CLO</td>\n",
       "      <td>18</td>\n",
       "      <td>5</td>\n",
       "    </tr>\n",
       "  </tbody>\n",
       "</table>\n",
       "</div>"
      ],
      "text/plain": [
       "                                   uuid                       locationGroupId  \\\n",
       "0  c7c6549a-8226-5cc5-98ae-dd3e89d4586e  ee34290f-711f-582b-864f-14ed09e58c11   \n",
       "1  c7c6549a-8226-5cc5-98ae-dd3e89d4586e  ee34290f-711f-582b-864f-14ed09e58c11   \n",
       "2  c7c6549a-8226-5cc5-98ae-dd3e89d4586e  ee34290f-711f-582b-864f-14ed09e58c11   \n",
       "3  c7c6549a-8226-5cc5-98ae-dd3e89d4586e  ee34290f-711f-582b-864f-14ed09e58c11   \n",
       "4  c7c6549a-8226-5cc5-98ae-dd3e89d4586e  ee34290f-711f-582b-864f-14ed09e58c11   \n",
       "\n",
       "   paymentActive        companyName    city  \\\n",
       "0              1  culture4life GmbH  Berlin   \n",
       "1              1  culture4life GmbH  Berlin   \n",
       "2              1  culture4life GmbH  Berlin   \n",
       "3              1  culture4life GmbH  Berlin   \n",
       "4              1  culture4life GmbH  Berlin   \n",
       "\n",
       "                                   uuid                            locationId  \\\n",
       "0  03cec838-d3ba-52f3-9eb1-3bf9da16cdf8  c7c6549a-8226-5cc5-98ae-dd3e89d4586e   \n",
       "1  08d50f76-635e-5034-9ccf-443e90d7ba6e  c7c6549a-8226-5cc5-98ae-dd3e89d4586e   \n",
       "2  0c2d33a6-d577-5ff0-ba2a-f33d23fdd8c1  c7c6549a-8226-5cc5-98ae-dd3e89d4586e   \n",
       "3  0e2c6524-cd62-51c3-976d-1909051ba888  c7c6549a-8226-5cc5-98ae-dd3e89d4586e   \n",
       "4  0fa854d7-6234-5af4-becf-295d3aa95de5  c7c6549a-8226-5cc5-98ae-dd3e89d4586e   \n",
       "\n",
       "           paymentCreatedAt  totalAmount status  week  month  \n",
       "0 2022-04-29 15:00:38+00:00          1.1    CLO    17      4  \n",
       "1 2022-06-17 09:08:10+00:00          5.5    CLO    24      6  \n",
       "2 2022-05-31 10:45:41+00:00          3.3    CLO    22      5  \n",
       "3 2022-05-19 15:21:28+00:00          2.0    CLO    20      5  \n",
       "4 2022-05-06 15:25:03+00:00          5.5    CLO    18      5  "
      ]
     },
     "execution_count": 38,
     "metadata": {},
     "output_type": "execute_result"
    }
   ],
   "source": [
    "joined_df.head()"
   ]
  },
  {
   "cell_type": "code",
   "execution_count": 45,
   "id": "f84db374",
   "metadata": {},
   "outputs": [],
   "source": [
    "sales_by_week = pd.read_sql(\"\"\"SELECT totalAmount, strftime(\"%W\", paymentCreatedAt) as weeknum \n",
    "FROM payments\"\"\", conn)"
   ]
  },
  {
   "cell_type": "code",
   "execution_count": 46,
   "id": "8f332952",
   "metadata": {},
   "outputs": [
    {
     "data": {
      "text/html": [
       "<div>\n",
       "<style scoped>\n",
       "    .dataframe tbody tr th:only-of-type {\n",
       "        vertical-align: middle;\n",
       "    }\n",
       "\n",
       "    .dataframe tbody tr th {\n",
       "        vertical-align: top;\n",
       "    }\n",
       "\n",
       "    .dataframe thead th {\n",
       "        text-align: right;\n",
       "    }\n",
       "</style>\n",
       "<table border=\"1\" class=\"dataframe\">\n",
       "  <thead>\n",
       "    <tr style=\"text-align: right;\">\n",
       "      <th></th>\n",
       "      <th>totalAmount</th>\n",
       "      <th>weeknum</th>\n",
       "    </tr>\n",
       "  </thead>\n",
       "  <tbody>\n",
       "    <tr>\n",
       "      <th>0</th>\n",
       "      <td>1.10</td>\n",
       "      <td>27</td>\n",
       "    </tr>\n",
       "    <tr>\n",
       "      <th>1</th>\n",
       "      <td>28.08</td>\n",
       "      <td>22</td>\n",
       "    </tr>\n",
       "    <tr>\n",
       "      <th>2</th>\n",
       "      <td>131.76</td>\n",
       "      <td>23</td>\n",
       "    </tr>\n",
       "    <tr>\n",
       "      <th>3</th>\n",
       "      <td>76.80</td>\n",
       "      <td>23</td>\n",
       "    </tr>\n",
       "    <tr>\n",
       "      <th>4</th>\n",
       "      <td>0.00</td>\n",
       "      <td>23</td>\n",
       "    </tr>\n",
       "    <tr>\n",
       "      <th>...</th>\n",
       "      <td>...</td>\n",
       "      <td>...</td>\n",
       "    </tr>\n",
       "    <tr>\n",
       "      <th>378</th>\n",
       "      <td>3.30</td>\n",
       "      <td>26</td>\n",
       "    </tr>\n",
       "    <tr>\n",
       "      <th>379</th>\n",
       "      <td>3.85</td>\n",
       "      <td>26</td>\n",
       "    </tr>\n",
       "    <tr>\n",
       "      <th>380</th>\n",
       "      <td>1.10</td>\n",
       "      <td>27</td>\n",
       "    </tr>\n",
       "    <tr>\n",
       "      <th>381</th>\n",
       "      <td>1.10</td>\n",
       "      <td>27</td>\n",
       "    </tr>\n",
       "    <tr>\n",
       "      <th>382</th>\n",
       "      <td>82.50</td>\n",
       "      <td>26</td>\n",
       "    </tr>\n",
       "  </tbody>\n",
       "</table>\n",
       "<p>383 rows × 2 columns</p>\n",
       "</div>"
      ],
      "text/plain": [
       "     totalAmount weeknum\n",
       "0           1.10      27\n",
       "1          28.08      22\n",
       "2         131.76      23\n",
       "3          76.80      23\n",
       "4           0.00      23\n",
       "..           ...     ...\n",
       "378         3.30      26\n",
       "379         3.85      26\n",
       "380         1.10      27\n",
       "381         1.10      27\n",
       "382        82.50      26\n",
       "\n",
       "[383 rows x 2 columns]"
      ]
     },
     "execution_count": 46,
     "metadata": {},
     "output_type": "execute_result"
    }
   ],
   "source": [
    "sales_by_week"
   ]
  },
  {
   "cell_type": "code",
   "execution_count": 64,
   "id": "602237b2",
   "metadata": {},
   "outputs": [],
   "source": [
    "query_sum_by_week = \"\"\"\n",
    "SELECT SUM(totalAmount) AS total, strftime(\"%W\", payments.paymentCreatedAt) AS weeknum \n",
    "FROM payments\n",
    "WHERE NOT payments.status = \"ERR\"\n",
    "GROUP BY weeknum\n",
    "\"\"\""
   ]
  },
  {
   "cell_type": "code",
   "execution_count": 65,
   "id": "5d3544ee",
   "metadata": {},
   "outputs": [],
   "source": [
    "sum_sales_by_week = pd.read_sql(query_sum_by_week, conn)"
   ]
  },
  {
   "cell_type": "code",
   "execution_count": 66,
   "id": "1440b4d4",
   "metadata": {},
   "outputs": [
    {
     "data": {
      "text/html": [
       "<div>\n",
       "<style scoped>\n",
       "    .dataframe tbody tr th:only-of-type {\n",
       "        vertical-align: middle;\n",
       "    }\n",
       "\n",
       "    .dataframe tbody tr th {\n",
       "        vertical-align: top;\n",
       "    }\n",
       "\n",
       "    .dataframe thead th {\n",
       "        text-align: right;\n",
       "    }\n",
       "</style>\n",
       "<table border=\"1\" class=\"dataframe\">\n",
       "  <thead>\n",
       "    <tr style=\"text-align: right;\">\n",
       "      <th></th>\n",
       "      <th>total</th>\n",
       "      <th>weeknum</th>\n",
       "    </tr>\n",
       "  </thead>\n",
       "  <tbody>\n",
       "    <tr>\n",
       "      <th>0</th>\n",
       "      <td>32.17</td>\n",
       "      <td>17</td>\n",
       "    </tr>\n",
       "    <tr>\n",
       "      <th>1</th>\n",
       "      <td>324.38</td>\n",
       "      <td>18</td>\n",
       "    </tr>\n",
       "    <tr>\n",
       "      <th>2</th>\n",
       "      <td>29.71</td>\n",
       "      <td>19</td>\n",
       "    </tr>\n",
       "    <tr>\n",
       "      <th>3</th>\n",
       "      <td>223.85</td>\n",
       "      <td>20</td>\n",
       "    </tr>\n",
       "    <tr>\n",
       "      <th>4</th>\n",
       "      <td>28.61</td>\n",
       "      <td>21</td>\n",
       "    </tr>\n",
       "    <tr>\n",
       "      <th>5</th>\n",
       "      <td>111.12</td>\n",
       "      <td>22</td>\n",
       "    </tr>\n",
       "    <tr>\n",
       "      <th>6</th>\n",
       "      <td>531.69</td>\n",
       "      <td>23</td>\n",
       "    </tr>\n",
       "    <tr>\n",
       "      <th>7</th>\n",
       "      <td>860.56</td>\n",
       "      <td>24</td>\n",
       "    </tr>\n",
       "    <tr>\n",
       "      <th>8</th>\n",
       "      <td>723.20</td>\n",
       "      <td>25</td>\n",
       "    </tr>\n",
       "    <tr>\n",
       "      <th>9</th>\n",
       "      <td>1893.49</td>\n",
       "      <td>26</td>\n",
       "    </tr>\n",
       "    <tr>\n",
       "      <th>10</th>\n",
       "      <td>106.83</td>\n",
       "      <td>27</td>\n",
       "    </tr>\n",
       "  </tbody>\n",
       "</table>\n",
       "</div>"
      ],
      "text/plain": [
       "      total weeknum\n",
       "0     32.17      17\n",
       "1    324.38      18\n",
       "2     29.71      19\n",
       "3    223.85      20\n",
       "4     28.61      21\n",
       "5    111.12      22\n",
       "6    531.69      23\n",
       "7    860.56      24\n",
       "8    723.20      25\n",
       "9   1893.49      26\n",
       "10   106.83      27"
      ]
     },
     "execution_count": 66,
     "metadata": {},
     "output_type": "execute_result"
    }
   ],
   "source": [
    "sum_sales_by_week"
   ]
  },
  {
   "cell_type": "code",
   "execution_count": 63,
   "id": "bbc3d8e0",
   "metadata": {},
   "outputs": [],
   "source": [
    "from ipywidgets import interact, interactive, fixed, interact_manual\n",
    "import ipywidgets as widgets"
   ]
  },
  {
   "cell_type": "code",
   "execution_count": 74,
   "id": "2f661207",
   "metadata": {},
   "outputs": [
    {
     "data": {
      "application/vnd.jupyter.widget-view+json": {
       "model_id": "879066d9d59b485da213db1f5ac5c7e2",
       "version_major": 2,
       "version_minor": 0
      },
      "text/plain": [
       "interactive(children=(Dropdown(description='val', options=('total', 'average'), value='total'), Dropdown(descr…"
      ]
     },
     "metadata": {},
     "output_type": "display_data"
    }
   ],
   "source": [
    "@interact\n",
    "def get_df(val = [\"total\", \"average\"], time = [\"week\", \"month\"]):\n",
    "    if val == \"total\":\n",
    "        func = \"SUM\"\n",
    "    elif val == \"average\":\n",
    "        func = \"AVG\"\n",
    "    if time == \"week\":\n",
    "        dt_format = \"%W\"\n",
    "        col_name = \"week\"\n",
    "    elif time == \"month\":\n",
    "        dt_format = \"%m\"\n",
    "        col_name = \"month\"\n",
    "    \n",
    "    df = pd.read_sql(f\"\"\"SELECT {func}(totalAmount) AS total, \\\n",
    "    strftime('{dt_format}', payments.paymentCreatedAt) AS {col_name} \\\n",
    "FROM payments \\\n",
    "WHERE NOT payments.status = 'ERR'\\\n",
    "GROUP BY {col_name}\"\"\", con = conn)\n",
    "    df.head()\n",
    "    return df"
   ]
  },
  {
   "cell_type": "code",
   "execution_count": 75,
   "id": "9a4c1025",
   "metadata": {},
   "outputs": [
    {
     "ename": "UnboundLocalError",
     "evalue": "local variable 'func' referenced before assignment",
     "output_type": "error",
     "traceback": [
      "\u001b[0;31m---------------------------------------------------------------------------\u001b[0m",
      "\u001b[0;31mUnboundLocalError\u001b[0m                         Traceback (most recent call last)",
      "Cell \u001b[0;32mIn [75], line 1\u001b[0m\n\u001b[0;32m----> 1\u001b[0m \u001b[43mget_df\u001b[49m\u001b[43m(\u001b[49m\u001b[43m)\u001b[49m\n",
      "Cell \u001b[0;32mIn [74], line 14\u001b[0m, in \u001b[0;36mget_df\u001b[0;34m(val, time)\u001b[0m\n\u001b[1;32m     11\u001b[0m         dt_format \u001b[38;5;241m=\u001b[39m \u001b[38;5;124m\"\u001b[39m\u001b[38;5;124m%\u001b[39m\u001b[38;5;124mm\u001b[39m\u001b[38;5;124m\"\u001b[39m\n\u001b[1;32m     12\u001b[0m         col_name \u001b[38;5;241m=\u001b[39m \u001b[38;5;124m\"\u001b[39m\u001b[38;5;124mmonth\u001b[39m\u001b[38;5;124m\"\u001b[39m\n\u001b[0;32m---> 14\u001b[0m     df \u001b[38;5;241m=\u001b[39m pd\u001b[38;5;241m.\u001b[39mread_sql(\u001b[38;5;124mf\u001b[39m\u001b[38;5;124m\"\"\"\u001b[39m\u001b[38;5;124mSELECT \u001b[39m\u001b[38;5;132;01m{\u001b[39;00mfunc\u001b[38;5;132;01m}\u001b[39;00m\u001b[38;5;124m(totalAmount) AS total, \u001b[39m\u001b[38;5;130;01m\\\u001b[39;00m\n\u001b[1;32m     15\u001b[0m \u001b[38;5;124m    strftime(\u001b[39m\u001b[38;5;124m'\u001b[39m\u001b[38;5;132;01m{\u001b[39;00mdt_format\u001b[38;5;132;01m}\u001b[39;00m\u001b[38;5;124m'\u001b[39m\u001b[38;5;124m, payments.paymentCreatedAt) AS \u001b[39m\u001b[38;5;132;01m{\u001b[39;00mcol_name\u001b[38;5;132;01m}\u001b[39;00m\u001b[38;5;124m \u001b[39m\u001b[38;5;130;01m\\\u001b[39;00m\n\u001b[1;32m     16\u001b[0m \u001b[38;5;124mFROM payments \u001b[39m\u001b[38;5;130;01m\\\u001b[39;00m\n\u001b[1;32m     17\u001b[0m \u001b[38;5;124mWHERE NOT payments.status = \u001b[39m\u001b[38;5;124m'\u001b[39m\u001b[38;5;124mERR\u001b[39m\u001b[38;5;124m'\u001b[39m\u001b[38;5;130;01m\\\u001b[39;00m\n\u001b[1;32m     18\u001b[0m \u001b[38;5;124mGROUP BY \u001b[39m\u001b[38;5;132;01m{\u001b[39;00mcol_name\u001b[38;5;132;01m}\u001b[39;00m\u001b[38;5;124m\"\"\"\u001b[39m, con \u001b[38;5;241m=\u001b[39m conn)\n\u001b[1;32m     19\u001b[0m     df\u001b[38;5;241m.\u001b[39mhead()\n\u001b[1;32m     20\u001b[0m     \u001b[38;5;28;01mreturn\u001b[39;00m df\n",
      "\u001b[0;31mUnboundLocalError\u001b[0m: local variable 'func' referenced before assignment"
     ]
    }
   ],
   "source": []
  },
  {
   "cell_type": "code",
   "execution_count": 84,
   "id": "b85f8fd2",
   "metadata": {},
   "outputs": [],
   "source": [
    "def task_one(val, time):\n",
    "    if val == \"total\":\n",
    "        func = \"SUM\"\n",
    "    elif val == \"average\":\n",
    "        func = \"AVG\"\n",
    "    if time == \"week\":\n",
    "        dt_format = \"%W\"\n",
    "        col_name = \"week\"\n",
    "    elif time == \"month\":\n",
    "        dt_format = \"%m\"\n",
    "        col_name = \"month\"\n",
    "    \n",
    "    df = pd.read_sql(f\"\"\"SELECT {func}(totalAmount) AS '{val}', \\\n",
    "    strftime('{dt_format}', payments.paymentCreatedAt) AS {col_name} \\\n",
    "FROM payments \\\n",
    "WHERE NOT payments.status = 'ERR'\\\n",
    "GROUP BY {col_name}\"\"\", con = conn)\n",
    "    sns.barplot(y = df[val], x = df[time])\n",
    "    return None"
   ]
  },
  {
   "cell_type": "code",
   "execution_count": 85,
   "id": "b452d568",
   "metadata": {},
   "outputs": [
    {
     "data": {
      "application/vnd.jupyter.widget-view+json": {
       "model_id": "16263380bfb043b088f06eabc9819092",
       "version_major": 2,
       "version_minor": 0
      },
      "text/plain": [
       "interactive(children=(Dropdown(description='val', options=('total', 'average'), value='total'), Dropdown(descr…"
      ]
     },
     "metadata": {},
     "output_type": "display_data"
    },
    {
     "data": {
      "text/plain": [
       "<function __main__.task_one(val, time)>"
      ]
     },
     "execution_count": 85,
     "metadata": {},
     "output_type": "execute_result"
    }
   ],
   "source": [
    "interact(task_one, val=[\"total\", \"average\"], time = [\"week\", \"month\"])"
   ]
  },
  {
   "cell_type": "code",
   "execution_count": null,
   "id": "cc8af0eb",
   "metadata": {},
   "outputs": [],
   "source": []
  }
 ],
 "metadata": {
  "kernelspec": {
   "display_name": "Python 3 (ipykernel)",
   "language": "python",
   "name": "python3"
  },
  "language_info": {
   "codemirror_mode": {
    "name": "ipython",
    "version": 3
   },
   "file_extension": ".py",
   "mimetype": "text/x-python",
   "name": "python",
   "nbconvert_exporter": "python",
   "pygments_lexer": "ipython3",
   "version": "3.10.6"
  },
  "toc": {
   "base_numbering": 1,
   "nav_menu": {},
   "number_sections": true,
   "sideBar": true,
   "skip_h1_title": false,
   "title_cell": "Table of Contents",
   "title_sidebar": "Contents",
   "toc_cell": false,
   "toc_position": {},
   "toc_section_display": true,
   "toc_window_display": false
  }
 },
 "nbformat": 4,
 "nbformat_minor": 5
}
