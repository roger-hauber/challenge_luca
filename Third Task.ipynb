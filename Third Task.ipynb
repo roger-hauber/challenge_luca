{
 "cells": [
  {
   "cell_type": "code",
   "execution_count": null,
   "id": "63618cd1",
   "metadata": {},
   "outputs": [],
   "source": [
    "import sqlite3\n",
    "import pandas as pd\n",
    "import seaborn as sns\n",
    "from ipywidgets import interact, interactive, fixed, interact_manual\n",
    "import ipywidgets as widgets"
   ]
  },
  {
   "cell_type": "code",
   "execution_count": 113,
   "id": "f7601f5a",
   "metadata": {},
   "outputs": [],
   "source": [
    "# set up db connection\n",
    "conn = sqlite3.connect(\"data/challenge_db.db\")"
   ]
  },
  {
   "cell_type": "code",
   "execution_count": 114,
   "id": "e7505ab2",
   "metadata": {},
   "outputs": [],
   "source": [
    "# get data frame for plots\n",
    "rank_two = pd.read_sql(\"\"\"\n",
    "WITH incl_rank AS (SELECT SUM(totalAmount) as total, AVG(totalAmount) as average, MAX(totalAmount), locationId, city,\n",
    "RANK() OVER (\n",
    "PARTITION BY city\n",
    "ORDER BY city ASC, MAX(totalAmount) DESC\n",
    ") AS order_rank\n",
    "\n",
    "FROM payments JOIN locations ON payments.locationId=locations.uuid\n",
    "WHERE NOT payments.status = \"ERR\"\n",
    "GROUP BY city, locationId\n",
    "ORDER BY city ASC, MAX(totalAmount) DESC)\n",
    "\n",
    "SELECT *\n",
    "FROM incl_rank\n",
    "WHERE order_rank = 2\n",
    "\"\"\", con = conn)"
   ]
  },
  {
   "cell_type": "code",
   "execution_count": 119,
   "id": "97e0fd89",
   "metadata": {},
   "outputs": [],
   "source": [
    "def plot_spec_city(city):\n",
    "    plt = sns.barplot(y = pd.Series([rank_two.loc[rank_two.city == city,\"average\"].values[0], \n",
    "                                     rank_two.loc[rank_two.city == city,\"total\"].values[0]], \n",
    "                              index= [0, 1]), \n",
    "                x = pd.Series([\"average\", \"total\"]))\n",
    "    plt.bar_label(plt.containers[0])\n",
    "    "
   ]
  },
  {
   "cell_type": "code",
   "execution_count": 120,
   "id": "3ee6e5f5",
   "metadata": {},
   "outputs": [
    {
     "data": {
      "application/vnd.jupyter.widget-view+json": {
       "model_id": "fa8e519d2015433e9703615d3cf5b45c",
       "version_major": 2,
       "version_minor": 0
      },
      "text/plain": [
       "interactive(children=(Dropdown(description='city', options=('Berlin', 'Hamburg', 'Ot'), value='Berlin'), Outpu…"
      ]
     },
     "metadata": {},
     "output_type": "display_data"
    },
    {
     "data": {
      "text/plain": [
       "<function __main__.plot_spec_city(city)>"
      ]
     },
     "execution_count": 120,
     "metadata": {},
     "output_type": "execute_result"
    }
   ],
   "source": [
    "interact(plot_spec_city, city = rank_two.city.values)"
   ]
  },
  {
   "cell_type": "code",
   "execution_count": null,
   "id": "dc279dbe",
   "metadata": {},
   "outputs": [],
   "source": []
  }
 ],
 "metadata": {
  "kernelspec": {
   "display_name": "Python 3 (ipykernel)",
   "language": "python",
   "name": "python3"
  },
  "language_info": {
   "codemirror_mode": {
    "name": "ipython",
    "version": 3
   },
   "file_extension": ".py",
   "mimetype": "text/x-python",
   "name": "python",
   "nbconvert_exporter": "python",
   "pygments_lexer": "ipython3",
   "version": "3.10.6"
  },
  "toc": {
   "base_numbering": 1,
   "nav_menu": {},
   "number_sections": true,
   "sideBar": true,
   "skip_h1_title": false,
   "title_cell": "Table of Contents",
   "title_sidebar": "Contents",
   "toc_cell": false,
   "toc_position": {},
   "toc_section_display": true,
   "toc_window_display": false
  }
 },
 "nbformat": 4,
 "nbformat_minor": 5
}
